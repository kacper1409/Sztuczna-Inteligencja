{
  "cells": [
    {
      "cell_type": "markdown",
      "metadata": {
        "id": "54qt2NYu3Bd4"
      },
      "source": [
        "# Sieci neuronowe"
      ]
    },
    {
      "cell_type": "markdown",
      "metadata": {
        "id": "toB1sQlB3Bd8"
      },
      "source": [
        "## Wstęp\n",
        "\n",
        "Celem laboratorium jest zapoznanie się z podstawami sieci neuronowych oraz uczeniem głębokim (*deep learning*). Zapoznasz się na nim z następującymi tematami:\n",
        "- treningiem prostych sieci neuronowych, w szczególności z:\n",
        "  - regresją liniową w sieciach neuronowych\n",
        "  - optymalizacją funkcji kosztu\n",
        "  - algorytmem spadku wzdłuż gradientu\n",
        "  - siecią typu Multilayer Perceptron (MLP)\n",
        "- frameworkiem PyTorch, w szczególności z:\n",
        "  - ładowaniem danych\n",
        "  - preprocessingiem danych\n",
        "  - pisaniem pętli treningowej i walidacyjnej\n",
        "  - walidacją modeli\n",
        "- architekturą i hiperaprametrami sieci MLP, w szczególności z:\n",
        "  - warstwami gęstymi (w pełni połączonymi)\n",
        "  - funkcjami aktywacji\n",
        "  - regularyzacją: L2, dropout"
      ]
    },
    {
      "cell_type": "markdown",
      "metadata": {
        "id": "i0Sht7H63Bd8"
      },
      "source": [
        "## Wykorzystywane biblioteki\n",
        "\n",
        "Zaczniemy od pisania ręcznie prostych sieci w bibliotece Numpy, służącej do obliczeń numerycznych na CPU. Później przejdziemy do wykorzystywania frameworka PyTorch, służącego do obliczeń numerycznych na CPU, GPU oraz automatycznego różniczkowania, wykorzystywanego głównie do treningu sieci neuronowych.\n",
        "\n",
        "Wykorzystamy PyTorcha ze względu na popularność, łatwość instalacji i użycia, oraz dużą kontrolę nad niskopoziomowymi aspektami budowy i treningu sieci neuronowych. Framework ten został stworzony do zastosowań badawczych i naukowych, ale ze względu na wygodę użycia stał się bardzo popularny także w przemyśle. W szczególności całkowicie zdominował przetwarzanie języka naturalnego (NLP) oraz uczenie na grafach.\n",
        "\n",
        "Pierwszy duży framework do deep learningu, oraz obecnie najpopularniejszy, to TensorFlow, wraz z wysokopoziomową nakładką Keras. Są jednak szanse, że Google (autorzy) będzie go powoli porzucać na rzecz ich nowego frameworka JAX ([dyskusja](https://www.reddit.com/r/MachineLearning/comments/vfl57t/d_google_quietly_moving_its_products_from/), [artykuł Business Insidera](https://www.businessinsider.com/facebook-pytorch-beat-google-tensorflow-jax-meta-ai-2022-6?IR=T)), który jest bardzo świeżym, ale ciekawym narzędziem.\n",
        "\n",
        "Trzecia, ale znacznie mniej popularna od powyższych opcja to Apache MXNet."
      ]
    },
    {
      "cell_type": "markdown",
      "metadata": {
        "id": "DewPhs2V3Bd9"
      },
      "source": [
        "## Konfiguracja własnego komputera\n",
        "\n",
        "Jeżeli korzystasz z własnego komputera, to musisz zainstalować trochę więcej bibliotek (Google Colab ma je już zainstalowane).\n",
        "\n",
        "Jeżeli nie masz GPU lub nie chcesz z niego korzystać, to wystarczy znaleźć odpowiednią komendę CPU [na stronie PyTorcha](https://pytorch.org/get-started/locally/). Dla Anacondy odpowiednia komenda została podana poniżej, dla pip'a znajdź ją na stronie.\n",
        "\n",
        "Jeżeli chcesz korzystać ze wsparcia GPU (na tym laboratorium nie będzie potrzebne, na kolejnych może przyspieszyć nieco obliczenia), to musi być to odpowiednio nowa karta NVidii, mająca CUDA compatibility ([lista](https://developer.nvidia.com/cuda-gpus)). Poza PyTorchem będzie potrzebne narzędzie NVidia CUDA w wersji 11.6 lub 11.7. Instalacja na Windowsie jest bardzo prosta (wystarczy ściągnąć plik EXE i zainstalować jak każdy inny program). Instalacja na Linuxie jest trudna i można względnie łatwo zepsuć sobie system, ale jeżeli chcesz spróbować, to [ten tutorial](https://www.youtube.com/results?search_query=nvidia+cuda+install+ubuntu+20.04) jest bardzo dobry."
      ]
    },
    {
      "cell_type": "code",
      "execution_count": null,
      "metadata": {
        "id": "8PGqto-T3Bd-",
        "colab": {
          "base_uri": "https://localhost:8080/"
        },
        "outputId": "a5334249-f61b-423a-9b4a-f30ed2504ea5"
      },
      "outputs": [
        {
          "output_type": "stream",
          "name": "stdout",
          "text": [
            "/bin/bash: conda: command not found\n"
          ]
        }
      ],
      "source": [
        "# for conda users\n",
        "!conda install -y matplotlib pandas pytorch torchvision torchaudio -c pytorch -c conda-forge"
      ]
    },
    {
      "cell_type": "markdown",
      "metadata": {
        "id": "Othm3C2lLAsj"
      },
      "source": [
        "## Wprowadzenie\n",
        "\n",
        "Zanim zaczniemy naszą przygodę z sieciami neuronowymi, przyjrzyjmy się prostemu przykładowi regresji liniowej na syntetycznych danych:"
      ]
    },
    {
      "cell_type": "code",
      "execution_count": null,
      "metadata": {
        "id": "rnJsfxbnLAsj"
      },
      "outputs": [],
      "source": [
        "from typing import Tuple, Dict\n",
        "\n",
        "import numpy as np\n",
        "import matplotlib.pyplot as plt"
      ]
    },
    {
      "cell_type": "code",
      "execution_count": null,
      "metadata": {
        "colab": {
          "base_uri": "https://localhost:8080/",
          "height": 283
        },
        "id": "EaYpEXzBLAsl",
        "outputId": "d469882a-fea2-40f5-bec7-868bd31182ed"
      },
      "outputs": [
        {
          "output_type": "execute_result",
          "data": {
            "text/plain": [
              "<matplotlib.collections.PathCollection at 0x7f61932f6ac0>"
            ]
          },
          "metadata": {},
          "execution_count": 70
        },
        {
          "output_type": "display_data",
          "data": {
            "text/plain": [
              "<Figure size 432x288 with 1 Axes>"
            ],
            "image/png": "[encoded data removed]"
          },
          "metadata": {
            "needs_background": "light"
          }
        }
      ],
      "source": [
        "np.random.seed(0)\n",
        "\n",
        "x = np.linspace(0, 1, 100)\n",
        "y = x + np.random.normal(scale=0.1, size=x.shape)\n",
        "\n",
        "plt.scatter(x, y)"
      ]
    },
    {
      "cell_type": "markdown",
      "metadata": {
        "id": "PEM_-yKELAsl"
      },
      "source": [
        "W przeciwieństwie do laboratorium 1, tym razem będziemy chcieli rozwiązać ten problem własnoręcznie, bez użycia wysokopoziomowego interfejsu Scikit-learn'a. W tym celu musimy sobie przypomnieć sformułowanie naszego **problemu optymalizacyjnego (optimization problem)**.\n",
        "\n",
        "W przypadku prostej regresji liniowej (1 zmienna) mamy model postaci $\\hat{y} = \\alpha x + \\beta$, z dwoma parametrami, których będziemy się uczyć. Miarą niedopasowania modelu o danych parametrach jest **funkcja kosztu (cost function)**, nazywana też funkcją celu. Najczęściej używa się **błędu średniokwadratowego (mean squared error, MSE)**:\n",
        "$$\\large\n",
        "MSE = \\frac{1}{N} \\sum_{i}^{N} (y - \\hat{y})^2\n",
        "$$\n",
        "\n",
        "Od jakich $\\alpha$ i $\\beta$ zacząć? W najprostszym wypadku wystarczy po prostu je wylosować jako niewielkie liczby zmiennoprzecinkowe.\n",
        "\n",
        "#### Zadanie 1 (0.5 punkt)\n",
        "\n",
        "Uzupełnij kod funkcji `mse`, obliczającej błąd średniokwadratowy. Wykorzystaj Numpy'a w celu wektoryzacji obliczeń dla wydajności."
      ]
    },
    {
      "cell_type": "code",
      "execution_count": null,
      "metadata": {
        "id": "RaA7Q46TLAsm"
      },
      "outputs": [],
      "source": [
        "def mse(y: np.ndarray, y_hat: np.ndarray) -> float:\n",
        "    return np.square(np.subtract(y, y_hat)).mean()"
      ]
    },
    {
      "cell_type": "code",
      "execution_count": null,
      "metadata": {
        "colab": {
          "base_uri": "https://localhost:8080/",
          "height": 301
        },
        "id": "qSGfamGbLAsm",
        "outputId": "54021aea-d663-4bee-c35c-7aaaa8f9f8e2"
      },
      "outputs": [
        {
          "output_type": "stream",
          "name": "stdout",
          "text": [
            "MSE: 0.133\n"
          ]
        },
        {
          "output_type": "execute_result",
          "data": {
            "text/plain": [
              "[<matplotlib.lines.Line2D at 0x7f61932d2700>]"
            ]
          },
          "metadata": {},
          "execution_count": 72
        },
        {
          "output_type": "display_data",
          "data": {
            "text/plain": [
              "<Figure size 432x288 with 1 Axes>"
            ],
            "image/png": "[encoded data removed]"
          },
          "metadata": {
            "needs_background": "light"
          }
        }
      ],
      "source": [
        "a = np.random.rand()\n",
        "b = np.random.rand()\n",
        "print(f\"MSE: {mse(y, a * x + b):.3f}\")\n",
        "\n",
        "plt.scatter(x, y)\n",
        "plt.plot(x, a * x + b, color=\"g\", linewidth=4)"
      ]
    },
    {
      "cell_type": "markdown",
      "metadata": {
        "id": "Y--E9Mp9LAsn"
      },
      "source": [
        "Losowe parametry radzą sobie nie najlepiej. Jak lepiej dopasować naszą prostą do danych? Zawsze możemy starać się wyprowadzić rozwiązanie analitycznie, i w tym wypadku nawet nam się uda. Jest to jednak szczególny i dość rzadki przypadek, a w szczególności nie będzie to możliwe w większych sieciach neuronowych.\n",
        "\n",
        "Potrzebna nam będzie **metoda optymalizacji (optimization method)**, dającą wartości parametrów minimalizujące dowolną różniczkowalną funkcję kosztu. Zdecydowanie najpopularniejszy jest tutaj **spadek wzdłuż gradientu (gradient descent)**.\n",
        "\n",
        "Metoda ta wywodzi się z prostych obserwacji, które tutaj przedstawimy. Bardziej szczegółowe rozwinięcie dla zainteresowanych: [sekcja 4.3 \"Deep Learning Book\"](https://www.deeplearningbook.org/contents/numerical.html), [ten praktyczny kurs](https://cs231n.github.io/optimization-1/), [analiza oryginalnej publikacji Cauchy'ego](https://www.math.uni-bielefeld.de/documenta/vol-ismp/40_lemarechal-claude.pdf) (oryginał w języku francuskim).\n",
        "\n",
        "Pochodna jest dokładnie równa granicy funkcji. Dla małego $\\epsilon$ można ją przybliżyć jako:\n",
        "$$\\large\n",
        "\\frac{f(x)}{dx} \\approx \\frac{f(x) - f(x+\\epsilon)}{\\epsilon}\n",
        "$$\n",
        "\n",
        "Przyglądając się temu równaniu widzimy, że: \n",
        "* dla funkcji rosnącej ($f(x+\\epsilon) > f(x)$) wyrażenie $\\frac{f(x)}{dx}$ będzie miało znak ujemny \n",
        "* dla funkcji malejącej ($f(x+\\epsilon) < f(x)$) wyrażenie $\\frac{f(x)}{dx}$ będzie miało znak dodatni \n",
        "\n",
        "Widzimy więc, że potrafimy wskazać kierunek zmniejszenia wartości funkcji, patrząc na znak pochodnej. Zaobserwowano także, że amplituda wartości w $\\frac{f(x)}{dx}$ jest tym większa, im dalej jesteśmy od minimum (maximum). Pochodna wyznacza więc, w jakim kierunku funkcja najszybciej rośnie, więc kierunek o przeciwnym zwrocie to kierunek, w którym funkcja najszybciej spada.\n",
        "\n",
        "Stosując powyższe do optymalizacji, mamy:\n",
        "$$\\large\n",
        "x_{t+1} = x_{t} -  \\alpha * \\frac{f(x)}{dx}\n",
        "$$\n",
        "\n",
        "$\\alpha$ to niewielka wartość (rzędu zwykle $10^{-5}$ - $10^{-2}$), wprowadzona, aby trzymać się założenia o małej zmianie parametrów ($\\epsilon$). Nazywa się ją **stałą uczącą (learning rate)** i jest zwykle najważniejszym hiperparametrem podczas nauki sieci.\n",
        "\n",
        "Metoda ta zakłada, że używamy całego zbioru danych do aktualizacji parametrów w każdym kroku, co nazywa się po prostu GD (od *gradient descent*) albo *full batch GD*. Wtedy każdy krok optymalizacji nazywa się **epoką (epoch)**.\n",
        "\n",
        "Im większa stała ucząca, tym większe nasze kroki podczas minimalizacji. Możemy więc uczyć szybciej, ale istnieje ryzyko, że będziemy \"przeskakiwać\" minima. Mniejsza stała ucząca to wolniejszy trening, ale dokładniejszy. Można także zmieniać ją podczas treningu, co nazywa się **learning rate scheduling (LR scheduling)**. Obrazowo:\n",
        "\n",
        "![learning_rate](http://www.bdhammel.com/assets/learning-rate/lr-types.png)"
      ]
    },
    {
      "cell_type": "markdown",
      "metadata": {
        "id": "496qEjkVLAso"
      },
      "source": [
        "![interactive LR](http://cdn-images-1.medium.com/max/640/1*eeIvlwkMNG1wSmj3FR6M2g.gif)"
      ]
    },
    {
      "cell_type": "markdown",
      "metadata": {
        "id": "RYkyAHKzLAsp"
      },
      "source": [
        "Policzmy więc pochodną dla naszej funkcji kosztu MSE. Pochodną liczymy po predykcjach naszego modelu, czyli de facto po jego parametrach, bo to od nich zależą predykcje.\n",
        "$$\\large\n",
        "\\frac{\\text{d} MSE}{\\text{d} \\hat{y}} = -2 \\cdot \\frac{1}{N} \\sum_{i=1}^{N} (y_i - \\hat{y}_i) = -2 \\cdot \\frac{1}{N} \\sum_{i=1}^{N} (y_i - (ax + b))\n",
        "$$\n",
        "\n",
        "Musimy jeszcze się dowiedzieć, jak zaktualizować każdy z naszych parametrów. Możemy wykorzystać tutaj regułę łańcuchową (*chain rule*) i policzyć ponownie pochodną, tylko że po naszych parametrach. Dzięki temu dostajemy informację, jak każdy z parametrów wpływa na funkcję kosztu i jak zmodyfikować każdy z nich w kolejnym kroku.\n",
        "$$\\large\n",
        "\\frac{\\text{d} \\hat{y}}{\\text{d} a} = x\n",
        "$$\n",
        "\n",
        "$$\\large\n",
        "\\frac{\\text{d} \\hat{y}}{\\text{d} b} = 1\n",
        "$$\n",
        "\n",
        "Pełna aktualizacja to zatem:\n",
        "$$\\large\n",
        "a' = a + \\alpha * \\left( \\frac{-2}{N} \\sum_{i=1}^N (y_i - \\hat{y}_i) * (-x) \\right)\n",
        "$$\n",
        "$$\\large\n",
        "b' = b + \\alpha * \\left( \\frac{-2}{N} \\sum_{i=1}^N (y_i - \\hat{y}_i) * (-1) \\right)\n",
        "$$\n",
        "\n",
        "Liczymy więc pochodną funkcji kosztu, a potem za pomocą reguły łańcuchowej \"cofamy się\", dochodząc do tego, jak każdy z parametrów wpływa na błąd i w jaki sposób powinniśmy go zmienić. Nazywa się to **propagacją wsteczną (backpropagation)** i jest podstawowym mechanizmem umożliwiającym naukę sieci neuronowych za pomocą spadku wzdłuż gradientu. Więcej możesz o tym przeczytać [tutaj](https://cs231n.github.io/optimization-2/).\n",
        "\n",
        "Obliczenie pochodnych cząstkowych ze względu na każdy \n",
        "\n",
        "\n",
        "#### Zadanie 2 (1.5 punkty)\n",
        "\n",
        "Zaimplementuj funkcję realizującą jedną epokę treningową. Oblicz predykcję przy aktualnych parametrach oraz zaktualizuj je zgodnie z powyższymi wzorami."
      ]
    },
    {
      "cell_type": "code",
      "execution_count": null,
      "metadata": {
        "id": "4qbdWOSULAsp"
      },
      "outputs": [],
      "source": [
        "def optimize(\n",
        "    x: np.ndarray, y: np.ndarray, a: float, b: float, learning_rate: float = 0.1\n",
        "):\n",
        "    y_hat = a * x + b\n",
        "    errors = y - y_hat\n",
        "    \n",
        "    new_a = a + learning_rate * (-2) * np.mean((y - y_hat) * (-x))\n",
        "    new_b = b + learning_rate * (-2) * np.mean((y - y_hat) * (-1))\n",
        "\n",
        "    return new_a, new_b"
      ]
    },
    {
      "cell_type": "code",
      "execution_count": null,
      "metadata": {
        "id": "8AxdR9Ql3BeD",
        "colab": {
          "base_uri": "https://localhost:8080/"
        },
        "outputId": "7d96d846-f632-46fa-fbd6-28cba9447085"
      },
      "outputs": [
        {
          "output_type": "stream",
          "name": "stdout",
          "text": [
            "step 0 loss:  0.1330225119404028\n",
            "step 100 loss:  0.012673197778527677\n",
            "step 200 loss:  0.010257153540857817\n",
            "step 300 loss:  0.0100948037549359\n",
            "step 400 loss:  0.010083894412889118\n",
            "step 500 loss:  0.010083161342973332\n",
            "step 600 loss:  0.010083112083219709\n",
            "step 700 loss:  0.010083108773135261\n",
            "step 800 loss:  0.010083108550709076\n",
            "step 900 loss:  0.01008310853576281\n",
            "final loss: 0.010083108534760455\n"
          ]
        }
      ],
      "source": [
        "for i in range(1000):\n",
        "    loss = mse(y, a * x + b)\n",
        "    a, b = optimize(x, y, a, b)\n",
        "    if i % 100 == 0:\n",
        "        print(f\"step {i} loss: \", loss)\n",
        "\n",
        "print(\"final loss:\", loss)"
      ]
    },
    {
      "cell_type": "code",
      "execution_count": null,
      "metadata": {
        "id": "xOgRcPC1LAsq",
        "scrolled": false,
        "colab": {
          "base_uri": "https://localhost:8080/",
          "height": 283
        },
        "outputId": "060f0eea-e829-463a-87f1-3218b75e03b7"
      },
      "outputs": [
        {
          "output_type": "execute_result",
          "data": {
            "text/plain": [
              "[<matplotlib.lines.Line2D at 0x7f619322acd0>]"
            ]
          },
          "metadata": {},
          "execution_count": 75
        },
        {
          "output_type": "display_data",
          "data": {
            "text/plain": [
              "<Figure size 432x288 with 1 Axes>"
            ],
            "image/png": "[encoded data removed]"
          },
          "metadata": {
            "needs_background": "light"
          }
        }
      ],
      "source": [
        "plt.scatter(x, y)\n",
        "plt.plot(x, a * x + b, color=\"g\", linewidth=4)"
      ]
    },
    {
      "cell_type": "markdown",
      "metadata": {
        "id": "vOr2fWYpLAsq"
      },
      "source": [
        "Udało ci się wytrenować swoją pierwszą sieć neuronową. Czemu? Otóż neuron to po prostu wektor parametrów, a zwykle robimy iloczyn skalarny tych parametrów z wejściem. Dodatkowo na wyjście nakłada się **funkcję aktywacji (activation function)**, która przekształca wyjście. Tutaj takiej nie było, a właściwie była to po prostu funkcja identyczności.\n",
        "\n",
        "Oczywiście w praktyce korzystamy z odpowiedniego frameworka, który w szczególności:\n",
        "- ułatwia budowanie sieci, np. ma gotowe klasy dla warstw neuronów\n",
        "- ma zaimplementowane funkcje kosztu oraz ich pochodne\n",
        "- sam różniczkuje ze względu na odpowiednie parametry i aktualizuje je odpowiednio podczas treningu\n"
      ]
    },
    {
      "cell_type": "markdown",
      "metadata": {
        "id": "NJBYJabuLAsr"
      },
      "source": [
        "## Wprowadzenie do PyTorcha"
      ]
    },
    {
      "cell_type": "markdown",
      "metadata": {
        "id": "EB-99XqhLAsr"
      },
      "source": [
        "PyTorch to w gruncie rzeczy narzędzie do algebry liniowej z [automatycznym rożniczkowaniem](https://pytorch.org/tutorials/beginner/blitz/autograd_tutorial.html), z możliwością przyspieszenia obliczeń z pomocą GPU. Na tych fundamentach zbudowany jest pełny framework do uczenia głębokiego. Można spotkać się ze stwierdzenie, że PyTorch to NumPy + GPU + opcjonalne różniczkowanie, co jest całkiem celne. Plus można łatwo debugować printem :)\n",
        "\n",
        "PyTorch używa dynamicznego grafu obliczeń, który sami definiujemy w kodzie. Takie podejście jest bardzo wygodne, elastyczne i pozwala na łatwe eksperymentowanie. Odbywa się to potencjalnie kosztem wydajności, ponieważ pozostawia kwestię optymalizacji programiście. Więcej na ten temat dla zainteresowanych na końcu laboratorium.\n",
        "\n",
        "Samo API PyTorcha bardzo przypomina Numpy'a, a podstawowym obiektem jest `Tensor`, klasa reprezentująca tensory dowolnego wymiaru. Dodatkowo niektóre tensory będą miały automatycznie obliczony gradient. Co ważne, tensor jest na pewnym urządzeniu, CPU lub GPU, a przenosić między nimi trzeba explicite.\n",
        "\n",
        "Najważniejsze moduły:\n",
        "- `torch` - podstawowe klasy oraz funkcje, np. `Tensor`, `from_numpy()`\n",
        "- `torch.nn` - klasy związane z sieciami neuronowymi, np. `Linear`, `Sigmoid`\n",
        "- `torch.optim` - wszystko związane z optymalizacją, głównie spadkiem wzdłuż gradientu"
      ]
    },
    {
      "cell_type": "code",
      "execution_count": null,
      "metadata": {
        "id": "FwuIt8S-LAss"
      },
      "outputs": [],
      "source": [
        "import torch\n",
        "import torch.nn as nn\n",
        "import torch.optim as optim"
      ]
    },
    {
      "cell_type": "code",
      "execution_count": null,
      "metadata": {
        "id": "bfCiUFXULAss",
        "colab": {
          "base_uri": "https://localhost:8080/"
        },
        "outputId": "81fceaf1-05fa-4dfe-dba0-d3290a7a7180"
      },
      "outputs": [
        {
          "output_type": "stream",
          "name": "stdout",
          "text": [
            "tensor([1.9388, 1.8083, 1.7870, 1.0539, 1.7180, 1.0951, 1.6983, 1.0616, 1.9626,\n",
            "        1.5097])\n",
            "tensor([0.9388, 0.8083, 0.7870, 0.0539, 0.7180, 0.0951, 0.6983, 0.0616, 0.9626,\n",
            "        0.5097])\n",
            "tensor(5.6332)\n"
          ]
        }
      ],
      "source": [
        "ones = torch.ones(10)\n",
        "noise = torch.ones(10) * torch.rand(10)\n",
        "\n",
        "# elementwise sum\n",
        "print(ones + noise)\n",
        "\n",
        "# elementwise multiplication\n",
        "print(ones * noise)\n",
        "\n",
        "# dot product\n",
        "print(ones @ noise)"
      ]
    },
    {
      "cell_type": "code",
      "execution_count": null,
      "metadata": {
        "id": "ynNd_kD0LAst"
      },
      "outputs": [],
      "source": [
        "# beware - shares memory with original Numpy array!\n",
        "# very fast, but modifications are visible to original variable\n",
        "x = torch.from_numpy(x)\n",
        "y = torch.from_numpy(y)"
      ]
    },
    {
      "cell_type": "markdown",
      "metadata": {
        "id": "W9kkxczELAsu"
      },
      "source": [
        "Jeżeli dla stworzonych przez nas tensorów chcemy śledzić operacje i obliczać gradient, to musimy oznaczyć `requires_grad=True`."
      ]
    },
    {
      "cell_type": "code",
      "execution_count": null,
      "metadata": {
        "id": "8HtZL-KfLAsu",
        "colab": {
          "base_uri": "https://localhost:8080/"
        },
        "outputId": "220c1bad-33b2-4e82-d47d-e56ec02a35d7"
      },
      "outputs": [
        {
          "output_type": "execute_result",
          "data": {
            "text/plain": [
              "(tensor([0.9665], requires_grad=True), tensor([0.6828], requires_grad=True))"
            ]
          },
          "metadata": {},
          "execution_count": 79
        }
      ],
      "source": [
        "a = torch.rand(1, requires_grad=True)\n",
        "b = torch.rand(1, requires_grad=True)\n",
        "a, b"
      ]
    },
    {
      "cell_type": "markdown",
      "metadata": {
        "id": "Nl1guWZ_LAsv"
      },
      "source": [
        "PyTorch zawiera większość powszechnie używanych funkcji kosztu, np. MSE. Mogą być one używane na 2 sposoby, z czego pierwszy jest popularniejszy:\n",
        "- jako klasy wywoływalne z modułu `torch.nn`\n",
        "- jako funkcje z modułu `torch.nn.functional`\n",
        "\n",
        "Po wykonaniu poniższego kodu widzimy, że zwraca on nam tensor z dodatkowymi atrybutami. Co ważne, jest to skalar (0-wymiarowy tensor), bo potrzebujemy zwyczajnej liczby do obliczania propagacji wstecznych (pochodnych czątkowych)."
      ]
    },
    {
      "cell_type": "code",
      "execution_count": null,
      "metadata": {
        "id": "sNoDudgD3BeG",
        "colab": {
          "base_uri": "https://localhost:8080/"
        },
        "outputId": "38a31e59-b45d-42c4-ee37-e0a68fc7c9ed"
      },
      "outputs": [
        {
          "output_type": "execute_result",
          "data": {
            "text/plain": [
              "tensor(0.4457, dtype=torch.float64, grad_fn=<MseLossBackward0>)"
            ]
          },
          "metadata": {},
          "execution_count": 80
        }
      ],
      "source": [
        "mse = nn.MSELoss()\n",
        "mse(y, a * x + b)"
      ]
    },
    {
      "cell_type": "markdown",
      "metadata": {
        "id": "vS35r49nLAsw"
      },
      "source": [
        "Atrybutu `grad_fn` nie używamy wprost, bo korzysta z niego w środku PyTorch, ale widać, że tensor jest \"świadomy\", że liczy się na nim pochodną. Możemy natomiast skorzystać z atrybutu `grad`, który zawiera faktyczny gradient. Zanim go jednak dostaniemy, to trzeba powiedzieć PyTorchowi, żeby policzył gradient. Służy do tego metoda `.backward()`, wywoływana na obiekcie zwracanym przez funkcję kosztu."
      ]
    },
    {
      "cell_type": "code",
      "execution_count": null,
      "metadata": {
        "id": "Qb7l6Xg1LAsx"
      },
      "outputs": [],
      "source": [
        "loss = mse(y, a * x + b)\n",
        "loss.backward()"
      ]
    },
    {
      "cell_type": "code",
      "execution_count": null,
      "metadata": {
        "id": "6LfQbLVoLAsx",
        "colab": {
          "base_uri": "https://localhost:8080/"
        },
        "outputId": "3227b06e-e677-4e29-a295-ab27d1f69373"
      },
      "outputs": [
        {
          "output_type": "stream",
          "name": "stdout",
          "text": [
            "tensor([0.6594])\n"
          ]
        }
      ],
      "source": [
        "print(a.grad)"
      ]
    },
    {
      "cell_type": "markdown",
      "metadata": {
        "id": "Kdf1iweELAsy"
      },
      "source": [
        "Ważne jest, że PyTorch nie liczy za każdym razem nowego gradientu, tylko dodaje go do istniejącego, czyli go akumuluje. Jest to przydatne w niektórych sieciach neuronowych, ale zazwyczaj trzeba go zerować. Jeżeli tego nie zrobimy, to dostaniemy coraz większe gradienty.\n",
        "\n",
        "Do zerowania służy metoda `.zero_()`. W PyTorchu wszystkie metody modyfikujące tensor w miejscu mają `_` na końcu nazwy. Jest to dość niskopoziomowa operacja dla pojedynczych tensorów - zobaczymy za chwilę, jak to robić łatwiej dla całej sieci."
      ]
    },
    {
      "cell_type": "code",
      "execution_count": null,
      "metadata": {
        "id": "DiCQZKJsLAsy",
        "colab": {
          "base_uri": "https://localhost:8080/"
        },
        "outputId": "843991a1-a50e-488e-b538-f7e2da403410"
      },
      "outputs": [
        {
          "output_type": "execute_result",
          "data": {
            "text/plain": [
              "tensor([1.3188])"
            ]
          },
          "metadata": {},
          "execution_count": 83
        }
      ],
      "source": [
        "loss = mse(y, a * x + b)\n",
        "loss.backward()\n",
        "a.grad"
      ]
    },
    {
      "cell_type": "markdown",
      "metadata": {
        "id": "xNC3Ag8uLAsz"
      },
      "source": [
        "Zobaczmy, jak wyglądałaby regresja liniowa, ale napisana w PyTorchu. Jest to oczywiście bardzo niskopoziomowa implementacja - za chwilę zobaczymy, jak to wygląda w praktyce."
      ]
    },
    {
      "cell_type": "code",
      "execution_count": null,
      "metadata": {
        "id": "AKnxyeboLAsz",
        "colab": {
          "base_uri": "https://localhost:8080/"
        },
        "outputId": "6b3d51d7-0bfe-4aba-c9f7-638c3f333ee5"
      },
      "outputs": [
        {
          "output_type": "stream",
          "name": "stdout",
          "text": [
            "step 0 loss:  tensor(0.4457, dtype=torch.float64, grad_fn=<MseLossBackward0>)\n",
            "step 100 loss:  tensor(0.0105, dtype=torch.float64, grad_fn=<MseLossBackward0>)\n",
            "step 200 loss:  tensor(0.0101, dtype=torch.float64, grad_fn=<MseLossBackward0>)\n",
            "step 300 loss:  tensor(0.0101, dtype=torch.float64, grad_fn=<MseLossBackward0>)\n",
            "step 400 loss:  tensor(0.0101, dtype=torch.float64, grad_fn=<MseLossBackward0>)\n",
            "step 500 loss:  tensor(0.0101, dtype=torch.float64, grad_fn=<MseLossBackward0>)\n",
            "step 600 loss:  tensor(0.0101, dtype=torch.float64, grad_fn=<MseLossBackward0>)\n",
            "step 700 loss:  tensor(0.0101, dtype=torch.float64, grad_fn=<MseLossBackward0>)\n",
            "step 800 loss:  tensor(0.0101, dtype=torch.float64, grad_fn=<MseLossBackward0>)\n",
            "step 900 loss:  tensor(0.0101, dtype=torch.float64, grad_fn=<MseLossBackward0>)\n",
            "final loss: tensor(0.0101, dtype=torch.float64, grad_fn=<MseLossBackward0>)\n"
          ]
        }
      ],
      "source": [
        "learning_rate = 0.1\n",
        "for i in range(1000):\n",
        "    loss = mse(y, a * x + b)\n",
        "\n",
        "    # compute gradients\n",
        "    loss.backward()\n",
        "\n",
        "    # update parameters\n",
        "    a.data -= learning_rate * a.grad\n",
        "    b.data -= learning_rate * b.grad\n",
        "\n",
        "    # zero gradients\n",
        "    a.grad.data.zero_()\n",
        "    b.grad.data.zero_()\n",
        "\n",
        "    if i % 100 == 0:\n",
        "        print(f\"step {i} loss: \", loss)\n",
        "\n",
        "print(\"final loss:\", loss)"
      ]
    },
    {
      "cell_type": "markdown",
      "metadata": {
        "id": "2DXNVhshmmI-"
      },
      "source": [
        "Trening modeli w PyTorchu jest dosyć schematyczny i najczęściej rozdziela się go na kilka bloków, dających razem **pętlę uczącą (training loop)**, powtarzaną w każdej epoce:\n",
        "1. Forward pass - obliczenie predykcji sieci\n",
        "2. Loss calculation\n",
        "3. Backpropagation - obliczenie pochodnych oraz zerowanie gradientów\n",
        "4. Optimalization - aktualizacja wag\n",
        "5. Other - ewaluacja na zbiorze walidacyjnym, logging etc."
      ]
    },
    {
      "cell_type": "code",
      "execution_count": null,
      "metadata": {
        "id": "2etpw7TNLAs0",
        "scrolled": true,
        "colab": {
          "base_uri": "https://localhost:8080/"
        },
        "outputId": "b5141477-542c-4d90-e89c-76ad7ac8cebc"
      },
      "outputs": [
        {
          "output_type": "stream",
          "name": "stdout",
          "text": [
            "step 0 loss: 0.1282\n",
            "step 100 loss: 0.0144\n",
            "step 200 loss: 0.0104\n",
            "step 300 loss: 0.0101\n",
            "step 400 loss: 0.0101\n",
            "step 500 loss: 0.0101\n",
            "step 600 loss: 0.0101\n",
            "step 700 loss: 0.0101\n",
            "step 800 loss: 0.0101\n",
            "step 900 loss: 0.0101\n",
            "final loss: tensor(0.0101, dtype=torch.float64, grad_fn=<MseLossBackward0>)\n"
          ]
        }
      ],
      "source": [
        "# initialization\n",
        "learning_rate = 0.1\n",
        "a = torch.rand(1, requires_grad=True)\n",
        "b = torch.rand(1, requires_grad=True)\n",
        "optimizer = torch.optim.SGD([a, b], lr=learning_rate)\n",
        "best_loss = float(\"inf\")\n",
        "\n",
        "# training loop in each epoch\n",
        "for i in range(1000):\n",
        "    # forward pass\n",
        "    y_hat = a * x + b\n",
        "\n",
        "    # loss calculation\n",
        "    loss = mse(y, y_hat)\n",
        "\n",
        "    # backpropagation\n",
        "    loss.backward()\n",
        "\n",
        "    # optimization\n",
        "    optimizer.step()\n",
        "    optimizer.zero_grad()  # zeroes all gradients - very convenient!\n",
        "\n",
        "    if i % 100 == 0:\n",
        "        if loss < best_loss:\n",
        "            best_model = (a.clone(), b.clone())\n",
        "            best_loss = loss\n",
        "        print(f\"step {i} loss: {loss.item():.4f}\")\n",
        "\n",
        "print(\"final loss:\", loss)"
      ]
    },
    {
      "cell_type": "markdown",
      "metadata": {
        "id": "cSn0yNez3BeI"
      },
      "source": [
        "Przejdziemy teraz do budowy sieci neuronowej do klasyfikacji. Typowo implementuje się ją po prostu jako sieć dla regresji, ale zwracającą tyle wyników, ile mamy klas, a potem aplikuje się na tym funkcję sigmoidalną (2 klasy) lub softmax (>2 klasy). W przypadku klasyfikacji binarnej zwraca się czasem tylko 1 wartość, przepuszczaną przez sigmoidę - wtedy wyjście z sieci to prawdopodobieństwo klasy pozytywnej.\n",
        "\n",
        "Funkcją kosztu zwykle jest **entropia krzyżowa (cross-entropy)**, stosowana też w klasycznej regresji logistycznej. Co ważne, sieci neuronowe, nawet tak proste, uczą się szybciej i stabilniej, gdy dane na wejściu (a przynajmniej zmienne numeryczne) są **ustandaryzowane (standardized)**. Operacja ta polega na odjęciu średniej i podzieleniu przez odchylenie standardowe (tzw. *Z-score transformation*).\n",
        "\n",
        "**Uwaga - PyTorch wymaga tensora klas będącego liczbami zmiennoprzecinkowymi!**"
      ]
    },
    {
      "cell_type": "markdown",
      "metadata": {
        "id": "z0Sr-czL3BeI"
      },
      "source": [
        "## Zbiór danych"
      ]
    },
    {
      "cell_type": "markdown",
      "metadata": {
        "id": "faC3aiqt3BeI"
      },
      "source": [
        "Na tym laboratorium wykorzystamy zbiór [Adult Census](https://archive.ics.uci.edu/ml/datasets/adult). Dotyczy on przewidywania na podstawie danych demograficznych, czy dany człowiek zarabia powyżej 50 tysięcy dolarów miesięcznie, czy też mniej. Jest to cenna informacja np. przy planowaniu kampanii marketingowych. Jak możesz się domyślić, zbiór pochodzi z czasów, kiedy inflacja była dużo niższa :)\n",
        "\n",
        "Poniżej znajduje się kod do ściągnięcia i preprocessingu zbioru. Nie musisz go dokładnie analizować."
      ]
    },
    {
      "cell_type": "code",
      "execution_count": null,
      "metadata": {
        "id": "4DNsaZAnLAs0",
        "scrolled": true,
        "colab": {
          "base_uri": "https://localhost:8080/"
        },
        "outputId": "25a41183-e318-4f19-9df5-1abb5a06179b"
      },
      "outputs": [
        {
          "output_type": "stream",
          "name": "stdout",
          "text": [
            "--2023-01-08 22:32:15--  https://archive.ics.uci.edu/ml/machine-learning-databases/adult/adult.data\n",
            "Resolving archive.ics.uci.edu (archive.ics.uci.edu)... 128.195.10.252\n",
            "Connecting to archive.ics.uci.edu (archive.ics.uci.edu)|128.195.10.252|:443... connected.\n",
            "HTTP request sent, awaiting response... 200 OK\n",
            "Length: 3974305 (3.8M) [application/x-httpd-php]\n",
            "Saving to: ‘adult.data.2’\n",
            "\n",
            "adult.data.2        100%[===================>]   3.79M  7.38MB/s    in 0.5s    \n",
            "\n",
            "2023-01-08 22:32:16 (7.38 MB/s) - ‘adult.data.2’ saved [3974305/3974305]\n",
            "\n"
          ]
        }
      ],
      "source": [
        "!wget https://archive.ics.uci.edu/ml/machine-learning-databases/adult/adult.data"
      ]
    },
    {
      "cell_type": "code",
      "execution_count": null,
      "metadata": {
        "id": "7-J31wyU3BeJ",
        "colab": {
          "base_uri": "https://localhost:8080/"
        },
        "outputId": "1c5104cd-79a4-4194-c7b7-0108e36d32e7"
      },
      "outputs": [
        {
          "output_type": "execute_result",
          "data": {
            "text/plain": [
              "array([' <=50K', ' >50K'], dtype=object)"
            ]
          },
          "metadata": {},
          "execution_count": 87
        }
      ],
      "source": [
        "import pandas as pd\n",
        "\n",
        "columns = [\n",
        "    \"age\",\n",
        "    \"workclass\",\n",
        "    \"fnlwgt\",\n",
        "    \"education\",\n",
        "    \"education-num\",\n",
        "    \"marital-status\",\n",
        "    \"occupation\",\n",
        "    \"relationship\",\n",
        "    \"race\",\n",
        "    \"sex\",\n",
        "    \"capital-gain\",\n",
        "    \"capital-loss\",\n",
        "    \"hours-per-week\",\n",
        "    \"native-country\",\n",
        "    \"wage\"\n",
        "]\n",
        "\n",
        "\"\"\"\n",
        "age: continuous.\n",
        "workclass: Private, Self-emp-not-inc, Self-emp-inc, Federal-gov, Local-gov, State-gov, Without-pay, Never-worked.\n",
        "fnlwgt: continuous.\n",
        "education: Bachelors, Some-college, 11th, HS-grad, Prof-school, Assoc-acdm, Assoc-voc, 9th, 7th-8th, 12th, Masters, 1st-4th, 10th, Doctorate, 5th-6th, Preschool.\n",
        "education-num: continuous.\n",
        "marital-status: Married-civ-spouse, Divorced, Never-married, Separated, Widowed, Married-spouse-absent, Married-AF-spouse.\n",
        "occupation: Tech-support, Craft-repair, Other-service, Sales, Exec-managerial, Prof-specialty, Handlers-cleaners, Machine-op-inspct, Adm-clerical, Farming-fishing, Transport-moving, Priv-house-serv, Protective-serv, Armed-Forces.\n",
        "relationship: Wife, Own-child, Husband, Not-in-family, Other-relative, Unmarried.\n",
        "race: White, Asian-Pac-Islander, Amer-Indian-Eskimo, Other, Black.\n",
        "sex: Female, Male.\n",
        "capital-gain: continuous.\n",
        "capital-loss: continuous.\n",
        "hours-per-week: continuous.\n",
        "native-country: United-States, Cambodia, England, Puerto-Rico, Canada, Germany, Outlying-US(Guam-USVI-etc), India, Japan, Greece, South, China, Cuba, Iran, Honduras, Philippines, Italy, Poland, Jamaica, Vietnam, Mexico, Portugal, Ireland, France, Dominican-Republic, Laos, Ecuador, Taiwan, Haiti, Columbia, Hungary, Guatemala, Nicaragua, Scotland, Thailand, Yugoslavia, El-Salvador, Trinadad&Tobago, Peru, Hong, Holand-Netherlands.\n",
        "\"\"\"\n",
        "\n",
        "df = pd.read_csv(\"adult.data\", header=None, names=columns)\n",
        "df.wage.unique()"
      ]
    },
    {
      "cell_type": "code",
      "execution_count": null,
      "metadata": {
        "id": "EoIqCtQL3BeJ"
      },
      "outputs": [],
      "source": [
        "# attribution: https://www.kaggle.com/code/royshih23/topic7-classification-in-python\n",
        "df['education'].replace('Preschool', 'dropout',inplace=True)\n",
        "df['education'].replace('10th', 'dropout',inplace=True)\n",
        "df['education'].replace('11th', 'dropout',inplace=True)\n",
        "df['education'].replace('12th', 'dropout',inplace=True)\n",
        "df['education'].replace('1st-4th', 'dropout',inplace=True)\n",
        "df['education'].replace('5th-6th', 'dropout',inplace=True)\n",
        "df['education'].replace('7th-8th', 'dropout',inplace=True)\n",
        "df['education'].replace('9th', 'dropout',inplace=True)\n",
        "df['education'].replace('HS-Grad', 'HighGrad',inplace=True)\n",
        "df['education'].replace('HS-grad', 'HighGrad',inplace=True)\n",
        "df['education'].replace('Some-college', 'CommunityCollege',inplace=True)\n",
        "df['education'].replace('Assoc-acdm', 'CommunityCollege',inplace=True)\n",
        "df['education'].replace('Assoc-voc', 'CommunityCollege',inplace=True)\n",
        "df['education'].replace('Bachelors', 'Bachelors',inplace=True)\n",
        "df['education'].replace('Masters', 'Masters',inplace=True)\n",
        "df['education'].replace('Prof-school', 'Masters',inplace=True)\n",
        "df['education'].replace('Doctorate', 'Doctorate',inplace=True)\n",
        "\n",
        "df['marital-status'].replace('Never-married', 'NotMarried',inplace=True)\n",
        "df['marital-status'].replace(['Married-AF-spouse'], 'Married',inplace=True)\n",
        "df['marital-status'].replace(['Married-civ-spouse'], 'Married',inplace=True)\n",
        "df['marital-status'].replace(['Married-spouse-absent'], 'NotMarried',inplace=True)\n",
        "df['marital-status'].replace(['Separated'], 'Separated',inplace=True)\n",
        "df['marital-status'].replace(['Divorced'], 'Separated',inplace=True)\n",
        "df['marital-status'].replace(['Widowed'], 'Widowed',inplace=True)"
      ]
    },
    {
      "cell_type": "code",
      "execution_count": null,
      "metadata": {
        "id": "LiOxs_6mLAs1",
        "scrolled": true,
        "colab": {
          "base_uri": "https://localhost:8080/"
        },
        "outputId": "b72bada8-1b7e-45f1-b7d2-22185c573ad5"
      },
      "outputs": [
        {
          "output_type": "execute_result",
          "data": {
            "text/plain": [
              "((20838, 108), (20838,))"
            ]
          },
          "metadata": {},
          "execution_count": 89
        }
      ],
      "source": [
        "from sklearn.model_selection import train_test_split\n",
        "from sklearn.preprocessing import MinMaxScaler, OneHotEncoder, StandardScaler\n",
        "\n",
        "X = df.copy()\n",
        "y = (X.pop(\"wage\") == ' >50K').astype(int).values\n",
        "\n",
        "train_valid_size = 0.2\n",
        "\n",
        "X_train, X_test, y_train, y_test = train_test_split(\n",
        "    X, y, \n",
        "    test_size=train_valid_size, \n",
        "    random_state=0, \n",
        "    shuffle=True, \n",
        "    stratify=y\n",
        ")\n",
        "X_train, X_valid, y_train, y_valid = train_test_split(\n",
        "    X_train, y_train, \n",
        "    test_size=train_valid_size, \n",
        "    random_state=0, \n",
        "    shuffle=True, \n",
        "    stratify=y_train\n",
        ")\n",
        "\n",
        "continuous_cols = ['age', 'fnlwgt', 'education-num', 'capital-gain', 'capital-loss', 'hours-per-week']\n",
        "continuous_X_train = X_train[continuous_cols]\n",
        "categorical_X_train = X_train.loc[:, ~X_train.columns.isin(continuous_cols)]\n",
        "\n",
        "continuous_X_valid = X_valid[continuous_cols]\n",
        "categorical_X_valid = X_valid.loc[:, ~X_valid.columns.isin(continuous_cols)]\n",
        "\n",
        "continuous_X_test = X_test[continuous_cols]\n",
        "categorical_X_test = X_test.loc[:, ~X_test.columns.isin(continuous_cols)]\n",
        "\n",
        "categorical_encoder = OneHotEncoder(sparse=False, handle_unknown='ignore')\n",
        "continuous_scaler = StandardScaler() #MinMaxScaler(feature_range=(-1, 1))\n",
        "\n",
        "categorical_encoder.fit(categorical_X_train)\n",
        "continuous_scaler.fit(continuous_X_train)\n",
        "\n",
        "continuous_X_train = continuous_scaler.transform(continuous_X_train)\n",
        "continuous_X_valid = continuous_scaler.transform(continuous_X_valid)\n",
        "continuous_X_test = continuous_scaler.transform(continuous_X_test)\n",
        "\n",
        "categorical_X_train = categorical_encoder.transform(categorical_X_train)\n",
        "categorical_X_valid = categorical_encoder.transform(categorical_X_valid)\n",
        "categorical_X_test = categorical_encoder.transform(categorical_X_test)\n",
        "\n",
        "X_train = np.concatenate([continuous_X_train, categorical_X_train], axis=1)\n",
        "X_valid = np.concatenate([continuous_X_valid, categorical_X_valid], axis=1)\n",
        "X_test = np.concatenate([continuous_X_test, categorical_X_test], axis=1)\n",
        "\n",
        "X_train.shape, y_train.shape"
      ]
    },
    {
      "cell_type": "markdown",
      "metadata": {
        "id": "vRtfn5F03BeJ"
      },
      "source": [
        "Uwaga co do typów - PyTorchu wszystko w sieci neuronowej musi być typu `float32`. W szczególności trzeba uważać na konwersje z Numpy'a, który używa domyślnie typu `float64`. Może ci się przydać metoda `.float()`.\n",
        "\n",
        "Uwaga co do kształtów wyjścia - wejścia do `nn.BCELoss` muszą być tego samego kształtu. Może ci się przydać metoda `.squeeze()` lub `.unsqueeze()`."
      ]
    },
    {
      "cell_type": "code",
      "execution_count": null,
      "metadata": {
        "id": "qfRA3xEoLAs1"
      },
      "outputs": [],
      "source": [
        "X_train = torch.from_numpy(X_train).float()\n",
        "y_train = torch.from_numpy(y_train).float().unsqueeze(-1)\n",
        "\n",
        "X_valid = torch.from_numpy(X_valid).float()\n",
        "y_valid = torch.from_numpy(y_valid).float().unsqueeze(-1)\n",
        "\n",
        "X_test = torch.from_numpy(X_test).float()\n",
        "y_test = torch.from_numpy(y_test).float().unsqueeze(-1)"
      ]
    },
    {
      "cell_type": "markdown",
      "metadata": {
        "id": "RcwdqPcT3BeK"
      },
      "source": [
        "Podobnie jak w laboratorium 2, mamy tu do czynienia z klasyfikacją niezbalansowaną:"
      ]
    },
    {
      "cell_type": "code",
      "execution_count": null,
      "metadata": {
        "id": "U4YKIZ6Q3BeK",
        "colab": {
          "base_uri": "https://localhost:8080/",
          "height": 281
        },
        "outputId": "9942c936-3b06-4d55-d101-0053ec97bc82"
      },
      "outputs": [
        {
          "output_type": "display_data",
          "data": {
            "text/plain": [
              "<Figure size 432x288 with 1 Axes>"
            ],
            "image/png": "[encoded data removed]"
          },
          "metadata": {
            "needs_background": "light"
          }
        }
      ],
      "source": [
        "import matplotlib.pyplot as plt\n",
        "\n",
        "y_pos_perc = 100 * y_train.sum().item() / len(y_train)\n",
        "y_neg_perc = 100 - y_pos_perc\n",
        "\n",
        "plt.title(\"Class percentages\")\n",
        "plt.bar([\"<50k\", \">=50k\"], [y_neg_perc, y_pos_perc])\n",
        "plt.show()"
      ]
    },
    {
      "cell_type": "markdown",
      "metadata": {
        "id": "f2Sm6UUL3BeK"
      },
      "source": [
        "W związku z powyższym będziemy używać odpowiednich metryk, czyli AUROC, precyzji i czułości."
      ]
    },
    {
      "cell_type": "markdown",
      "metadata": {
        "id": "XLexWff-LAs0"
      },
      "source": [
        "#### Zadanie 3 (1 punkt)\n",
        "\n",
        "Zaimplementuj regresję logistyczną dla tego zbioru danych, używając PyTorcha. Dane wejściowe zostały dla ciebie przygotowane w komórkach poniżej.\n",
        "\n",
        "Sama sieć składa się z 2 elementów:\n",
        "- warstwa liniowa `nn.Linear`, przekształcająca wektor wejściowy na 1 wyjście - logit\n",
        "- aktywacja sigmoidalna `nn.Sigmoid`, przekształcająca logit na prawdopodobieństwo klasy pozytywnej\n",
        "\n",
        "Użyj binarnej entropii krzyżowej `nn.BCELoss` jako funkcji kosztu. Użyj optymalizatora SGD ze stałą uczącą `1e-3`. Trenuj przez 3000 epok. Pamiętaj, aby przekazać do optymalizatora `torch.optim.SGD` parametry sieci (metoda `.parameters()`)."
      ]
    },
    {
      "cell_type": "code",
      "source": [
        "X_train.shape"
      ],
      "metadata": {
        "colab": {
          "base_uri": "https://localhost:8080/"
        },
        "id": "rSGiVGfbzse0",
        "outputId": "b274592a-3b59-4b75-9505-dd580dea501a"
      },
      "execution_count": null,
      "outputs": [
        {
          "output_type": "execute_result",
          "data": {
            "text/plain": [
              "torch.Size([20838, 108])"
            ]
          },
          "metadata": {},
          "execution_count": 92
        }
      ]
    },
    {
      "cell_type": "code",
      "execution_count": null,
      "metadata": {
        "id": "NbABKz5-LAs2",
        "scrolled": true,
        "colab": {
          "base_uri": "https://localhost:8080/"
        },
        "outputId": "915197a9-5746-4088-db31-b2c8c5fb133b"
      },
      "outputs": [
        {
          "output_type": "stream",
          "name": "stdout",
          "text": [
            "final loss: 0.4378\n"
          ]
        }
      ],
      "source": [
        "device = \"cuda\" if torch.cuda.is_available() else \"cpu\"\n",
        "\n",
        "learning_rate = 1e-3\n",
        "\n",
        "activation = nn.Sigmoid()\n",
        "model = nn.Linear(108, 1)\n",
        "optimizer = torch.optim.SGD(model.parameters(), lr=learning_rate)\n",
        "loss_fn = nn.BCELoss()\n",
        "\n",
        "X, y = X_train.to(device), y_train.to(device)\n",
        "\n",
        "for i in range(3000):\n",
        "    pred = activation(model(X))\n",
        "    loss = loss_fn(pred, y)\n",
        "\n",
        "    loss.backward()\n",
        "    optimizer.step()\n",
        "    optimizer.zero_grad()\n",
        "\n",
        "print(f\"final loss: {loss.item():.4f}\")"
      ]
    },
    {
      "cell_type": "markdown",
      "metadata": {
        "id": "7CGQiPWU3BeK"
      },
      "source": [
        "Teraz trzeba sprawdzić, jak poszło naszej sieci. W PyTorchu sieć pracuje zawsze w jednym z dwóch trybów: treningowym lub ewaluacyjnym (predykcyjnym). Ten drugi wyłącza niektóre mechanizmy, które są używane tylko podczas treningu, w szczególności regularyzację dropout. Do przełączania służą metody modelu `.train()` i `.eval()`.\n",
        "\n",
        "Dodatkowo podczas liczenia predykcji dobrze jest wyłączyć liczenie gradientów, bo nie będą potrzebne, a oszczędza to czas i pamięć. Używa się do tego menadżera kontekstu `with torch.no_grad():`."
      ]
    },
    {
      "cell_type": "code",
      "execution_count": null,
      "metadata": {
        "id": "zH37zDX4LAs2",
        "scrolled": true,
        "colab": {
          "base_uri": "https://localhost:8080/"
        },
        "outputId": "97f74138-2912-484e-fba8-0a9eaf9f89ca"
      },
      "outputs": [
        {
          "output_type": "stream",
          "name": "stdout",
          "text": [
            "AUROC: 85.41%\n"
          ]
        }
      ],
      "source": [
        "from sklearn.metrics import precision_recall_curve, precision_recall_fscore_support, roc_auc_score\n",
        "\n",
        "model.eval()\n",
        "with torch.no_grad():\n",
        "    y_score = activation(model(X_test))\n",
        "\n",
        "auroc = roc_auc_score(y_test, y_score)\n",
        "print(f\"AUROC: {100 * auroc:.2f}%\")"
      ]
    },
    {
      "cell_type": "markdown",
      "metadata": {
        "id": "yr6snl-d3BeL"
      },
      "source": [
        "Jest to całkiem dobry wynik, a może być jeszcze lepszy. Sprawdźmy dla pewności jeszcze inne metryki: precyzję, recall oraz F1-score. Dodatkowo narysujemy krzywą precision-recall, czyli jak zmieniają się te metryki w zależności od przyjętego progu (threshold) prawdopodobieństwa, powyżej którego przyjmujemy klasę pozytywną. Taką krzywą należy rysować na zbiorze walidacyjnym, bo później chcemy wykorzystać tę informację do doboru progu, a nie chcemy mieć wycieku danych testowych (data leakage).\n",
        "\n",
        "Poniżej zaimplementowano także funkcję `get_optimal_threshold()`, która sprawdza, dla którego progu uzyskujemy maksymalny F1-score, i zwraca indeks oraz wartość optymalnego progu. Przyda ci się ona w dalszej części laboratorium."
      ]
    },
    {
      "cell_type": "code",
      "execution_count": null,
      "metadata": {
        "id": "ELZmIcxo3BeL"
      },
      "outputs": [],
      "source": [
        "from sklearn.metrics import PrecisionRecallDisplay\n",
        "\n",
        "\n",
        "def get_optimal_threshold(\n",
        "    precisions: np.array, \n",
        "    recalls: np.array, \n",
        "    thresholds: np.array\n",
        ") -> Tuple[int, float]:\n",
        "    f1_scores = 2 * precisions * recalls / (precisions + recalls)\n",
        "    \n",
        "    optimal_idx = np.nanargmax(f1_scores)\n",
        "    optimal_threshold = thresholds[optimal_idx]\n",
        "    \n",
        "    return optimal_idx, optimal_threshold\n",
        "\n",
        "\n",
        "def plot_precision_recall_curve(y_true, y_pred_score) -> None:\n",
        "    precisions, recalls, thresholds = precision_recall_curve(y_true, y_pred_score)\n",
        "    optimal_idx, optimal_threshold = get_optimal_threshold(precisions, recalls, thresholds)\n",
        "\n",
        "    disp = PrecisionRecallDisplay(precisions, recalls)\n",
        "    disp.plot()\n",
        "    plt.title(f\"Precision-recall curve (opt. thresh.: {optimal_threshold:.4f})\")\n",
        "    plt.axvline(recalls[optimal_idx], color=\"green\", linestyle=\"-.\")\n",
        "    plt.axhline(precisions[optimal_idx], color=\"green\", linestyle=\"-.\")\n",
        "    plt.show()\n"
      ]
    },
    {
      "cell_type": "code",
      "execution_count": null,
      "metadata": {
        "id": "2Rap8r_R3BeL",
        "colab": {
          "base_uri": "https://localhost:8080/",
          "height": 295
        },
        "outputId": "b316ca6c-93ff-436c-b555-2f4dc7e03e43"
      },
      "outputs": [
        {
          "output_type": "display_data",
          "data": {
            "text/plain": [
              "<Figure size 432x288 with 1 Axes>"
            ],
            "image/png": "[encoded data removed]"
          },
          "metadata": {
            "needs_background": "light"
          }
        }
      ],
      "source": [
        "model.eval()\n",
        "with torch.no_grad():\n",
        "    y_pred_valid_score = activation(model(X_valid))\n",
        "\n",
        "plot_precision_recall_curve(y_valid, y_pred_valid_score)"
      ]
    },
    {
      "cell_type": "markdown",
      "metadata": {
        "id": "vfQPIUQ_LAs2"
      },
      "source": [
        "Jak widać, chociaż AUROC jest wysokie, to dla optymalnego F1-score recall nie jest zbyt wysoki, a precyzja jest już dość niska. Być może wynik uda się poprawić, używając modelu o większej pojemności - pełnej, głębokiej sieci neuronowej."
      ]
    },
    {
      "cell_type": "markdown",
      "metadata": {
        "id": "TwhZ9F6-3BeL"
      },
      "source": [
        "## Sieci neuronowe"
      ]
    },
    {
      "cell_type": "markdown",
      "metadata": {
        "id": "YP298w6Cq7T6"
      },
      "source": [
        "Wszystko zaczęło się od inspirowanych biologią [sztucznych neuronów](https://en.wikipedia.org/wiki/Artificial_neuron), których próbowano użyć do symulacji mózgu. Naukowcy szybko odeszli od tego podejścia (sam problem modelowania okazał się też znacznie trudniejszy, niż sądzono), zamiast tego używając neuronów jako jednostek reprezentującą dowolną funkcję parametryczną $f(x, \\Theta)$. Każdy neuron jest zatem bardzo elastyczny, bo jedyne wymagania to funkcja różniczkowalna, a mamy do tego wektor parametrów $\\Theta$.\n",
        "\n",
        "W praktyce najczęściej można spotkać się z kilkoma rodzinami sieci neuronowych:\n",
        "1. Perceptrony wielowarstwowe (*MultiLayer Perceptron*, MLP) - najbardziej podobne do powyższego opisu, niezbędne do klasyfikacji i regresji\n",
        "2. Konwolucyjne (*Convolutional Neural Networks*, CNNs) - do przetwarzania danych z zależnościami przestrzennymi, np. obrazów czy dźwięku\n",
        "3. Rekurencyjne (*Recurrent Neural Networks*, RNNs) - do przetwarzania danych z zależnościami sekwencyjnymi, np. szeregi czasowe, oraz kiedyś do języka naturalnego\n",
        "4. Transformacyjne (*Transformers*), oparte o mechanizm atencji (*attention*) - do przetwarzania języka naturalnego (NLP), z którego wyparły RNNs, a coraz częściej także do wszelkich innych danych, np. obrazów, dźwięku\n",
        "5. Grafowe (*Graph Neural Networks*, GNNS) - do przetwarzania grafów\n",
        "\n",
        "Na tym laboratorium skupimy się na najprostszej architekturze, czyli MLP. Jest ona powszechnie łączona z wszelkimi innymi architekturami, bo pozwala dokonywać klasyfikacji i regresji. Przykładowo, klasyfikacja obrazów to zwykle CNN + MLP, klasyfikacja tekstów to transformer + MLP, a regresja na grafach to GNN + MLP.\n",
        "\n",
        "Dodatkowo, pomimo prostoty MLP są bardzo potężne - udowodniono, że perceptrony (ich powszechna nazwa) są [uniwersalnym aproksymatorem](https://www.sciencedirect.com/science/article/abs/pii/0893608089900208), będącym w stanie przybliżyć dowolną funkcję z odpowiednio małym błędem, zakładając wystarczającą wielkość warstw sieci. Szczególne ich wersje potrafią nawet [reprezentować drzewa decyzyjne](https://www.youtube.com/watch?v=_okxGdHM5b8).\n",
        "\n",
        "Dla zainteresowanych polecamy [doskonałą książkę \"Dive into Deep Learning\", z implementacjami w PyTorchu](https://d2l.ai/chapter_multilayer-perceptrons/index.html), [klasyczną książkę \"Deep Learning Book\"](https://www.deeplearningbook.org/contents/mlp.html), oraz [ten filmik](https://www.youtube.com/watch?v=BFHrIxKcLjA), jeśli zastanawiałeś/-aś się, czemu używamy deep learning, a nie naprzykład (wide?) learning. (aka. czemu staramy się budować głębokie sieci, a nie płytkie za to szerokie)"
      ]
    },
    {
      "cell_type": "markdown",
      "metadata": {
        "id": "S_ZjoGBU5upj"
      },
      "source": [
        "### Sieci MLP\n",
        "\n",
        "Dla przypomnienia, na wejściu mamy punkty ze zbioru treningowego, czyli $d$-wymiarowe wektory. W klasyfikacji chcemy znaleźć granicę decyzyjną, czyli krzywą, która oddzieli od siebie klasy. W wejściowej przestrzeni może być to trudne, bo chmury punktów z poszczególnych klas mogą być ze sobą dość pomieszane. Pamiętajmy też, że regresja logistyczna jest klasyfikatorem liniowym, czyli w danej przestrzeni potrafi oddzielić punkty tylko linią prostą.\n",
        "\n",
        "Sieć MLP składa się z warstw. Każda z nich dokonuje nieliniowego przekształcenia przestrzeni (można o tym myśleć jak o składaniu przestrzeni jakąś prostą/łamaną), tak, aby w finalnej przestrzeni nasze punkty były możliwie liniowo separowalne. Wtedy ostatnia warstwa z sigmoidą będzie potrafiła je rozdzielić od siebie.\n",
        "\n",
        "![1_x-3NGQv0pRIab8xDT-f_Hg.png](attachment:1_x-3NGQv0pRIab8xDT-f_Hg.png)\n",
        "\n",
        "Poszczególne neurony składają się z iloczynu skalarnego wejść z wagami neuronu, oraz nieliniowej funkcji aktywacji. W PyTorchu są to osobne obiekty - `nn.Linear` oraz np. `nn.Sigmoid`. Funkcja aktywacji przyjmuje wynik iloczynu skalarnego i przekształca go, aby sprawdzić, jak mocno reaguje neuron na dane wejście. Musi być nieliniowa z dwóch powodów. Po pierwsze, tylko nieliniowe przekształcenia są na tyle potężne, żeby umożliwić liniową separację danych w ostatniej warstwie. Po drugie, liniowe przekształcenia zwyczajnie nie działają. Aby zrozumieć czemu, trzeba zobaczyć, co matematycznie oznacza sieć MLP.\n",
        "\n",
        "![perceptron](https://www.saedsayad.com/images/Perceptron_bkp_1.png)\n",
        "\n",
        "Zapisane matematycznie MLP to:\n",
        "$\n",
        "h_1 = f_1(x) \\\\\n",
        "h_2 = f_2(h_1) \\\\\n",
        "h_3 = f_3(h_2) \\\\\n",
        "...\n",
        "h_n = f_n(h_{n-1})\n",
        "$\n",
        "gdzie $x$ to wejście $f_i$ to funkcja aktywacji $i$-tej warstwy, a $h_i$ to wyjście $i$-tej warstwy, nazywane **ukrytą reprezentacją (hidden representation)**, lub *latent representation*. Nazwa bierze się z tego, że w środku sieci wyciągamy cechy i wzorce w danych, które nie są widoczne na pierwszy rzut oka na wejściu.\n",
        "\n",
        "Załóżmy, że nie mamy funkcji aktywacji, czyli mamy aktywację liniową $f(x) = x$. Zobaczmy na początku sieci:\n",
        "$\n",
        "h_1 = f_1(x) = x\n",
        "h_2 = f_2(f_1) = f_2(x) = x\n",
        "...\n",
        "h_n = f_n(f_{n-1}) = f_n(x) = x\n",
        "$\n",
        "Jak widać, taka sieć niczego się nie nauczy. Wynika to z tego, że złożenie funkcji liniowych jest także funkcją liniową - patrz notatki z algebry :)\n",
        "\n",
        "Jeżeli natomiast użyjemy nieliniowej funkcji aktywacji, często oznaczanej jako $\\sigma$, to wszystko będzie działać. Co ważne, ostatnia warstwa, dająca wyjście sieci, ma zwykle inną aktywację od warstw wewnątrz sieci, bo też ma inne zadanie - zwrócić wartość dla klasyfikacji lub regresji. Na wyjściu korzysta się z funkcji liniowej (regresja), sigmoidalnej (klasyfikacja binarna) lub softmax (klasyfikacja wieloklasowa).\n",
        "\n",
        "Wewnątrz sieci używano kiedyś sigmoidy oraz tangensa hiperbolicznego `tanh`, ale okazało się to nieefektywne przy uczeniu głębokich sieci o wielu warstwach. Nowoczesne sieci korzystają zwykle z funkcji ReLU (*rectified linear unit*), która jest zaskakująco prosta: $ReLU(x) = \\max(0, x)$. Okazało się, że bardzo dobrze nadaje się do treningu nawet bardzo głębokich sieci neuronowych. Nowsze funkcje aktywacji są głównie modyfikacjami ReLU.\n",
        "\n",
        "![relu](https://www.nomidl.com/wp-content/uploads/2022/04/image-10.png)"
      ]
    },
    {
      "cell_type": "markdown",
      "metadata": {
        "id": "kaz3cMqY3BeM"
      },
      "source": [
        "### MLP w PyTorchu\n",
        "\n",
        "Warstwę neuronów w MLP nazywa się warstwą gęstą (*dense layer*) lub warstwą w pełni połączoną (*fully-connected layer*), i taki opis oznacza zwykle same neurony oraz funkcję aktywacji. PyTorch, jak już widzieliśmy, definiuje osobno transformację liniową oraz aktywację, a więc jedna warstwa składa się de facto z 2 obiektów, wywoływanych jeden po drugim. Inne frameworki, szczególnie wysokopoziomowe (np. Keras) łączą to często w jeden obiekt.\n",
        "\n",
        "MLP składa się zatem z sekwencji obiektów, które potem wywołuje się jeden po drugim, gdzie wyjście poprzedniego to wejście kolejnego. Ale nie można tutaj używać Pythonowych list! Z perspektywy PyTorcha to wtedy niezależne obiekty i nie zostanie wtedy przekazany między nimi gradient. Trzeba tutaj skorzystać z `nn.Sequential`, aby tworzyć taki pipeline.\n",
        "\n",
        "Rozmiary wejścia i wyjścia dla każdej warstwy trzeba w PyTorchu podawać explicite. Jest to po pierwsze edukacyjne, a po drugie często ułatwia wnioskowanie o działaniu sieci oraz jej debugowanie - mamy jasno podane, czego oczekujemy. Niektóre frameworki (np. Keras) obliczają to automatycznie.\n",
        "\n",
        "Co ważne, ostatnia warstwa zwykle nie ma funkcji aktywacji. Wynika to z tego, że obliczanie wielu funkcji kosztu (np. entropii krzyżowej) na aktywacjach jest często niestabilne numerycznie. Z tego powodu PyTorch oferuje funkcje kosztu zawierające w środku aktywację dla ostatniej warstwy, a ich implementacje są stabilne numerycznie. Przykładowo, `nn.BCELoss` przyjmuje wejście z zaaplikowanymi już aktywacjami, ale może skutkować under/overflow, natomiast `nn.BCEWithLogitsLoss` przyjmuje wejście bez aktywacji, a w środku ma specjalną implementację łączącą binarną entropię krzyżową z aktywacją sigmoidalną. Oczywiście w związku z tym aby dokonać potem predykcji w praktyce, trzeba pamiętać o użyciu funkcji aktywacji. Często korzysta się przy tym z funkcji z modułu `torch.nn.functional`, które są w tym wypadku nieco wygodniejsze od klas wywoływalnych z `torch.nn`.\n",
        "\n",
        "Całe sieci w PyTorchu tworzy się jako klasy dziedziczące po `nn.Module`. Co ważne, obiekty, z których tworzymy sieć, np. `nn.Linear`, także dziedziczą po tej klasie. Pozwala to na bardzo modułową budowę kodu, zgodną z zasadami OOP. W konstruktorze najpierw trzeba zawsze wywołać konstruktor rodzica - `super().__init__()`, a później tworzy się potrzebne obiekty i zapisuje jako atrybuty. Musimy też zdefiniować metodę `forward()`, która przyjmuje tensor `x` i zwraca wynik. Typowo ta metoda po prostu używa obiektów zdefiniowanych w konstruktorze.\n",
        "\n",
        "\n",
        "**UWAGA: nigdy w normalnych warunkach się nie woła metody `forward` ręcznie**"
      ]
    },
    {
      "cell_type": "markdown",
      "metadata": {
        "id": "J8niDgExAMDO"
      },
      "source": [
        "#### Zadanie 4 (1 punkt)\n",
        "\n",
        "Uzupełnij implementację 3-warstwowej sieci MLP. Użyj rozmiarów:\n",
        "* pierwsza warstwa: input_size x 256\n",
        "* druga warstwa: 256 x 128\n",
        "* trzecia warstwa: 128 x 1\n",
        "\n",
        "Użyj funkcji aktywacji ReLU.\n",
        "\n",
        "Przydatne klasy:\n",
        "- `nn.Sequential`\n",
        "- `nn.Linear`\n",
        "- `nn.ReLU`"
      ]
    },
    {
      "cell_type": "code",
      "execution_count": null,
      "metadata": {
        "id": "pZpuVDz1ALU5"
      },
      "outputs": [],
      "source": [
        "from torch import sigmoid\n",
        "\n",
        "class MLP(nn.Module):\n",
        "    def __init__(self, input_size: int):\n",
        "        super().__init__()\n",
        "\n",
        "        self.mlp = nn.Sequential(\n",
        "            nn.Linear(input_size, 256),\n",
        "            nn.ReLU(),\n",
        "            nn.Linear(256, 128),\n",
        "            nn.ReLU(),\n",
        "            nn.Linear(128, 1)\n",
        "        )\n",
        "\n",
        "    def forward(self, x):\n",
        "        return self.mlp(x)\n",
        "\n",
        "    def predict_proba(self, x):\n",
        "        return sigmoid(self(x))\n",
        "    \n",
        "    def predict(self, x):\n",
        "        y_pred_score = self.predict_proba(x)\n",
        "        return torch.argmax(y_pred_score, dim=1)\n"
      ]
    },
    {
      "cell_type": "code",
      "execution_count": null,
      "metadata": {
        "id": "40c4uuhv3BeM",
        "colab": {
          "base_uri": "https://localhost:8080/"
        },
        "outputId": "4c3f3265-98b5-4e13-b8d6-13e00fe88255"
      },
      "outputs": [
        {
          "output_type": "stream",
          "name": "stdout",
          "text": [
            "Epoch 0 train loss: 0.6777\n",
            "Epoch 200 train loss: 0.6578\n",
            "Epoch 400 train loss: 0.6403\n",
            "Epoch 600 train loss: 0.6248\n",
            "Epoch 800 train loss: 0.6109\n",
            "Epoch 1000 train loss: 0.5983\n",
            "Epoch 1200 train loss: 0.5871\n",
            "Epoch 1400 train loss: 0.5769\n",
            "Epoch 1600 train loss: 0.5679\n",
            "Epoch 1800 train loss: 0.5597\n",
            "final loss: 0.5524\n"
          ]
        }
      ],
      "source": [
        "learning_rate = 1e-3\n",
        "model = MLP(input_size=X_train.shape[1])\n",
        "optimizer = torch.optim.SGD(model.parameters(), lr=learning_rate)\n",
        "\n",
        "# note that we are using loss function with sigmoid built in\n",
        "loss_fn = torch.nn.BCEWithLogitsLoss()\n",
        "num_epochs = 2000\n",
        "evaluation_steps = 200\n",
        "\n",
        "for i in range(num_epochs):\n",
        "    y_pred = model(X_train)\n",
        "    loss = loss_fn(y_pred, y_train)\n",
        "    loss.backward()\n",
        "\n",
        "    optimizer.step()\n",
        "    optimizer.zero_grad()\n",
        "\n",
        "    if i % evaluation_steps == 0:\n",
        "        print(f\"Epoch {i} train loss: {loss.item():.4f}\")\n",
        "\n",
        "print(f\"final loss: {loss.item():.4f}\")"
      ]
    },
    {
      "cell_type": "code",
      "execution_count": null,
      "metadata": {
        "id": "LP5GSup24dXU",
        "colab": {
          "base_uri": "https://localhost:8080/",
          "height": 312
        },
        "outputId": "27cbf57a-0129-475c-a14e-a3bce5e1e4e7"
      },
      "outputs": [
        {
          "output_type": "stream",
          "name": "stdout",
          "text": [
            "AUROC: 75.14%\n"
          ]
        },
        {
          "output_type": "display_data",
          "data": {
            "text/plain": [
              "<Figure size 432x288 with 1 Axes>"
            ],
            "image/png": "[encoded data removed]"
          },
          "metadata": {
            "needs_background": "light"
          }
        }
      ],
      "source": [
        "model.eval()\n",
        "with torch.no_grad():\n",
        "    # positive class probabilities\n",
        "    y_pred_valid_score = model.predict_proba(X_valid)\n",
        "    y_pred_test_score = model.predict_proba(X_test)\n",
        "\n",
        "auroc = roc_auc_score(y_test, y_pred_test_score)\n",
        "print(f\"AUROC: {100 * auroc:.2f}%\")\n",
        "\n",
        "plot_precision_recall_curve(y_valid, y_pred_valid_score)"
      ]
    },
    {
      "cell_type": "markdown",
      "metadata": {
        "id": "loCQlP4L3BeN"
      },
      "source": [
        "AUROC jest podobne, a precision i recall spadły - wypadamy wręcz gorzej od regresji liniowej! Skoro dodaliśmy więcej warstw, to może pojemność modelu jest teraz za duża i trzeba by go zregularyzować?\n",
        "\n",
        "Sieci neuronowe bardzo łatwo przeuczają, bo są bardzo elastycznymi i pojemnymi modelami. Dlatego mają wiele różnych rodzajów regularyzacji, których używa się razem. Co ciekawe, udowodniono eksperymentalnie, że zbyt duże sieci z mocną regularyzacją działają lepiej niż mniejsze sieci, odpowiedniego rozmiaru, za to ze słabszą regularyzacją.\n",
        "\n",
        "Pierwszy rodzaj regularyzacji to znana nam już **regularyzacja L2**, czyli penalizacja zbyt dużych wag. W kontekście sieci neuronowych nazywa się też ją czasem *weight decay*. W PyTorchu dodaje się ją jako argument do optymalizatora.\n",
        "\n",
        "Regularyzacja specyficzna dla sieci neuronowych to **dropout**. Polega on na losowym wyłączaniu zadanego procenta neuronów podczas treningu. Pomimo prostoty okazała się niesamowicie skuteczna, szczególnie w treningu bardzo głębokich sieci. Co ważne, jest to mechanizm używany tylko podczas treningu - w trakcie predykcji za pomocą sieci wyłącza się ten mechanizm i dokonuje normalnie predykcji całą siecią. Podejście to można potraktować jak ensemble learning, podobny do lasów losowych - wyłączając losowe części sieci, w każdej iteracji trenujemy nieco inną sieć, co odpowiada uśrednianiu predykcji różnych algorytmów. Typowo stosuje się dość mocny dropout, rzędu 25-50%. W PyTorchu implementuje go warstwa `nn.Dropout`, aplikowana zazwyczaj po funkcji aktywacji.\n",
        "\n",
        "Ostatni, a być może najważniejszy rodzaj regularyzacji to **wczesny stop (early stopping)**. W każdym kroku mocniej dostosowujemy terenową sieć do zbioru treningowego, a więc zbyt długi trening będzie skutkował przeuczeniem. W metodzie wczesnego stopu używamy wydzielonego zbioru walidacyjnego (pojedynczego, metoda holdout), sprawdzając co określoną liczbę epok wynik na tym zbiorze. Jeżeli nie uzyskamy wyniku lepszego od najlepszego dotychczas uzyskanego przez określoną liczbę epok, to przerywamy trening. Okres, przez który czekamy na uzyskanie lepszego wyniku, to cierpliwość (*patience*). Im mniejsze, tym mocniejszy jest ten rodzaj regularyzacji, ale trzeba z tym uważać, bo łatwo jest przesadzić i zbyt szybko przerywać trening. Niektóre implementacje uwzględniają tzw. *grace period*, czyli gwarantowaną minimalną liczbę epok, przez którą będziemy trenować sieć, niezależnie od wybranej cierpliwości.\n",
        "\n",
        "Dodatkowo ryzyko przeuczenia można zmniejszyć, używając mniejszej stałej uczącej."
      ]
    },
    {
      "cell_type": "markdown",
      "metadata": {
        "id": "Q-XSoxUb3BeN"
      },
      "source": [
        "#### Zadanie 5 (1 punkt)\n",
        "\n",
        "Zaimplementuj funkcję `evaluate_model()`, obliczającą metryki na zbiorze testowym:\n",
        "- wartość funkcji kosztu (loss)\n",
        "- AUROC\n",
        "- optymalny próg\n",
        "- F1-score przy optymalnym progu\n",
        "- precyzję oraz recall dla optymalnego progu\n",
        "\n",
        "Jeżeli podana jest wartość argumentu `threshold`, to użyj jej do zamiany prawdopodobieństw na twarde predykcje. W przeciwnym razie użyj funkcji `get_optimal_threshold` i oblicz optymalną wartość progu.\n",
        "\n",
        "Pamiętaj o przełączeniu modelu w tryb ewaluacji oraz o wyłączeniu obliczania gradientów."
      ]
    },
    {
      "cell_type": "code",
      "execution_count": null,
      "metadata": {
        "id": "gRdniI0P3BeN",
        "colab": {
          "base_uri": "https://localhost:8080/",
          "height": 201
        },
        "outputId": "699d372d-ef40-42b3-c405-86da374d5f30"
      },
      "outputs": [
        {
          "output_type": "error",
          "ename": "TypeError",
          "evalue": "ignored",
          "traceback": [
            "\u001b[0;31m---------------------------------------------------------------------------\u001b[0m",
            "\u001b[0;31mTypeError\u001b[0m                                 Traceback (most recent call last)",
            "\u001b[0;32m<ipython-input-103-62572541d922>\u001b[0m in \u001b[0;36m<module>\u001b[0;34m\u001b[0m\n\u001b[1;32m     41\u001b[0m     \u001b[0;31m# return results\u001b[0m\u001b[0;34m\u001b[0m\u001b[0;34m\u001b[0m\u001b[0;34m\u001b[0m\u001b[0m\n\u001b[1;32m     42\u001b[0m \u001b[0;34m\u001b[0m\u001b[0m\n\u001b[0;32m---> 43\u001b[0;31m \u001b[0mevaluate_model\u001b[0m\u001b[0;34m(\u001b[0m\u001b[0;34m)\u001b[0m\u001b[0;34m\u001b[0m\u001b[0;34m\u001b[0m\u001b[0m\n\u001b[0m",
            "\u001b[0;31mTypeError\u001b[0m: evaluate_model() missing 4 required positional arguments: 'model', 'X', 'y', and 'loss_fn'"
          ]
        }
      ],
      "source": [
        "from typing import Optional\n",
        "\n",
        "from sklearn.metrics import precision_score, recall_score, f1_score\n",
        "from torch import sigmoid\n",
        "\n",
        "def evaluate_model(\n",
        "    model: nn.Module, \n",
        "    X: torch.Tensor, \n",
        "    y: torch.Tensor, \n",
        "    loss_fn: nn.Module,\n",
        "    threshold: Optional[float]= None\n",
        ") -> Dict[str, float]:\n",
        "    # implement me!\n",
        "    model.eval()\n",
        "    raise NotImplementedError\n",
        "    with torch.no_grad():\n",
        "        y_pred = model.predict_proba(X)\n",
        "        \n",
        "    loss = loss_fn(y_pred, y)\n",
        "    auroc = roc_auc_score(y, y_pred)\n",
        "    \n",
        "    if threshold is None:\n",
        "        precisions, recalls, thresholds = precision_recall_curve(y, y_pred)\n",
        "        _, threshold = get_optimal_threshold(precisions, recalls, thresholds)\n",
        "    \n",
        "    y_pred = (y_pred > threshold).float()\n",
        "    print(\"y_pred\")\n",
        "    \n",
        "    precision = precision_score(y, y_pred)\n",
        "    recall = recall_score(y, y_pred)\n",
        "    f1 = f1_score(y, y_pred)\n",
        "    \n",
        "    results = {\n",
        "        \"loss\": loss,\n",
        "        \"AUROC\": auroc,\n",
        "        \"optimal_threshold\": threshold,\n",
        "        \"precision\": precision,\n",
        "        \"recall\": recall,\n",
        "        \"F1-score\": f1,\n",
        "    }\n",
        "    return results\n",
        "\n"
      ]
    },
    {
      "cell_type": "markdown",
      "metadata": {
        "id": "BtJF10KF3BeN"
      },
      "source": [
        "#### Zadanie 6 (1 punkt)\n",
        "\n",
        "Zaimplementuj 3-warstwową sieć MLP z regularyzacją L2 oraz dropout (50%). Rozmiary warstw ukrytych mają wynosić 256 i 128."
      ]
    },
    {
      "cell_type": "code",
      "execution_count": null,
      "metadata": {
        "id": "DAXtTdQj3BeO"
      },
      "outputs": [],
      "source": [
        "class RegularizedMLP(nn.Module):\n",
        "    def __init__(self, input_size: int, dropout_p: float = 0.5):\n",
        "        super().__init__()\n",
        "\n",
        "        self.mlp = nn.Sequential(\n",
        "            nn.Linear(input_size, 256),\n",
        "            nn.ReLU(),\n",
        "            nn.Dropout(dropout_p),\n",
        "            nn.Linear(256, 128),\n",
        "            nn.ReLU(),\n",
        "            nn.Dropout(dropout_p),\n",
        "            nn.Linear(128, 1)\n",
        "        )\n",
        "    \n",
        "    def forward(self, x):\n",
        "        # implement me!\n",
        "        return self.mlp(x)\n",
        "\n",
        "    def predict_proba(self, x):\n",
        "        return sigmoid(self(x))\n",
        "    \n",
        "    def predict(self, x):\n",
        "        y_pred_score = self.predict_proba(x)\n",
        "        return torch.argmax(y_pred_score, dim=1)\n"
      ]
    },
    {
      "cell_type": "markdown",
      "metadata": {
        "id": "rEk9azaULAsz"
      },
      "source": [
        "Opisaliśmy wcześniej podstawowy optymalizator w sieciach neuronowych - spadek wzdłuż gradientu. Jednak wymaga on użycia całego zbioru danych, aby obliczyć gradient, co jest często niewykonalne przez rozmiar zbioru. Dlatego wymyślono **stochastyczny spadek wzdłuż gradientu (stochastic gradient descent, SGD)**, w którym używamy 1 przykładu naraz, liczymy gradient tylko po nim i aktualizujemy parametry. Jest to oczywiście dość grube przybliżenie gradientu, ale pozwala robić szybko dużo małych kroków. Kompromisem, którego używa się w praktyce, jest **minibatch gradient descent**, czyli używanie batchy np. 32, 64 czy 128 przykładów.\n",
        "\n",
        "Rzadko wspominanym, a ważnym faktem jest także to, że stochastyczność metody optymalizacji jest sama w sobie też [metodą regularyzacji](https://arxiv.org/abs/2101.12176), a więc `batch_size` to także hiperparametr.\n",
        "\n",
        "Obecnie najpopularniejszą odmianą SGD jest [Adam](https://arxiv.org/abs/1412.6980), gdyż uczy on szybko sieć oraz daje bardzo dobre wyniki nawet przy niekoniecznie idealnie dobranych hiperparametrach. W PyTorchu najlepiej korzystać z jego implementacji `AdamW`, która jest nieco lepsza niż implementacja `Adam`. Jest to zasadniczo zawsze wybór domyślny przy treningu współczesnych sieci neuronowych.\n",
        "\n",
        "Na razie użyjemy jednak minibatch SGD."
      ]
    },
    {
      "cell_type": "markdown",
      "metadata": {
        "id": "_8i8n09U3BeO"
      },
      "source": [
        "Poniżej znajduje się implementacja prostej klasy dziedziczącej po `Dataset` - tak w PyTorchu implementuje się własne zbiory danych. Użycie takich klas umożliwia użycie klas ładujących dane (`DataLoader`), które z kolei pozwalają łatwo ładować batche danych. Trzeba w takiej klasie zaimplementować metody:\n",
        "- `__len__` - zwraca ilość punktów w zbiorze\n",
        "- `__getitem__` - zwraca przykład ze zbioru pod danym indeksem oraz jego klasę\n"
      ]
    },
    {
      "cell_type": "code",
      "execution_count": null,
      "metadata": {
        "id": "-Tq5CDGx3BeO"
      },
      "outputs": [],
      "source": [
        "from torch.utils.data import Dataset\n",
        "\n",
        "class MyDataset(Dataset):\n",
        "    def __init__(self, data, y):\n",
        "        super().__init__()\n",
        "        \n",
        "        self.data = data\n",
        "        self.y = y\n",
        "    \n",
        "    def __len__(self):\n",
        "        return self.data.shape[0]\n",
        "    \n",
        "    def __getitem__(self, idx):\n",
        "        return self.data[idx], self.y[idx]\n"
      ]
    },
    {
      "cell_type": "markdown",
      "metadata": {
        "id": "UgoXNXt43BeO"
      },
      "source": [
        "#### Zadanie 7 (2 punkty)\n",
        "\n",
        "Zaimplementuj pętlę treningowo-walidacyjną dla sieci neuronowej. Wykorzystaj podane wartości hiperparametrów do treningu (stała ucząca, prawdopodobieństwo dropoutu, regularyzacja L2, rozmiar batcha, maksymalna liczba epok). Użyj optymalizatora SGD.\n",
        "\n",
        "Dodatkowo zaimplementuj regularyzację przez early stopping. Sprawdzaj co epokę wynik na zbiorze walidacyjnym. Użyj podanej wartości patience, a jako metryki po prostu wartości funkcji kosztu. Może się tutaj przydać zaimplementowana funkcja `evaluate_model()`.\n",
        "\n",
        "Pamiętaj o tym, aby przechowywać najlepszy dotychczasowy wynik walidacyjny oraz najlepszy dotychczasowy model. Zapamiętaj też optymalny próg do klasyfikacji dla najlepszego modelu."
      ]
    },
    {
      "cell_type": "code",
      "execution_count": null,
      "metadata": {
        "id": "zRYeZ2W63BeO"
      },
      "outputs": [],
      "source": [
        "from copy import deepcopy\n",
        "\n",
        "from torch.utils.data import DataLoader\n",
        "\n",
        "\n",
        "learning_rate = 1e-3\n",
        "dropout_p = 0.5\n",
        "l2_reg = 1e-4\n",
        "batch_size = 128\n",
        "max_epochs = 300\n",
        "\n",
        "early_stopping_patience = 4"
      ]
    },
    {
      "cell_type": "code",
      "execution_count": null,
      "metadata": {
        "scrolled": true,
        "id": "Du5a21R83BeP"
      },
      "outputs": [],
      "source": [
        "model = RegularizedMLP(\n",
        "    input_size=X_train.shape[1], \n",
        "    dropout_p=dropout_p\n",
        ")\n",
        "optimizer = torch.optim.SGD(\n",
        "    model.parameters(), \n",
        "    lr=learning_rate, \n",
        "    weight_decay=l2_reg\n",
        ")\n",
        "loss_fn = torch.nn.BCEWithLogitsLoss()\n",
        "\n",
        "train_dataset = MyDataset(X_train, y_train)\n",
        "train_dataloader = DataLoader(train_dataset, batch_size=batch_size)\n",
        "\n",
        "steps_without_improvement = 0\n",
        "\n",
        "best_val_loss = np.inf\n",
        "best_model = None\n",
        "best_threshold = None\n",
        "\n",
        "for epoch_num in range(max_epochs):\n",
        "    model.train()\n",
        "    \n",
        "    # note that we are using DataLoader to get batches\n",
        "    for X_batch, y_batch in train_dataloader:\n",
        "        # model training\n",
        "        # implement me!\n",
        "        raise NotImplementedError\n",
        "    \n",
        "    # model evaluation, early stopping\n",
        "    # implement me!\n",
        "    \n",
        "    model.eval()\n",
        "    valid_metrics = evaluate_model(model, X_valid, y_valid, loss_fn)\n",
        "    if ???:\n",
        "        raise NotImplementedError \n",
        "    else:\n",
        "        steps_without_improvement += 1\n",
        "        raise NotImplementedError\n",
        "    \n",
        "    print(f\"Epoch {epoch_num} train loss: {loss.item():.4f}, eval loss {valid_metrics['loss']}\")\n"
      ]
    },
    {
      "cell_type": "code",
      "execution_count": null,
      "metadata": {
        "id": "0_EypXT03BeP"
      },
      "outputs": [],
      "source": [
        "test_metrics = evaluate_model(best_model, X_test, y_test, loss_fn, best_threshold)\n",
        "\n",
        "print(f\"AUROC: {100 * test_metrics['AUROC']:.2f}%\")\n",
        "print(f\"F1: {100 * test_metrics['F1-score']:.2f}%\")\n",
        "print(f\"Precision: {100 * test_metrics['precision']:.2f}%\")\n",
        "print(f\"Recall: {100 * test_metrics['recall']:.2f}%\")"
      ]
    },
    {
      "cell_type": "markdown",
      "metadata": {
        "id": "vlE0rDgy3BeP"
      },
      "source": [
        "Wyniki wyglądają już dużo lepiej.\n",
        "\n",
        "Na koniec laboratorium dołożymy do naszego modelu jeszcze 3 powrzechnie używane techniki, które są bardzo proste, a pozwalają często ulepszyć wynik modelu.\n",
        "\n",
        "Pierwszą z nich są **warstwy normalizacji (normalization layers)**. Powstały one początkowo z założeniem, że przez przekształcenia przestrzeni dokonywane przez sieć zmienia się rozkład prawdopodobieństw pomiędzy warstwami, czyli tzw. *internal covariate shift*. Później okazało się, że zastosowanie takiej normalizacji wygładza powierzchnię funkcji kosztu, co ułatwia i przyspiesza optymalizację. Najpowszechniej używaną normalizacją jest **batch normalization (batch norm)**.\n",
        "\n",
        "Drugim ulepszeniem jest dodanie **wag klas (class weights)**. Mamy do czynienia z problemem klasyfikacji niezbalansowanej, więc klasa mniejszościowa, ważniejsza dla nas, powinna dostać większą wagę. Implementuje się to trywialnie prosto - po prostu mnożymy wartość funkcji kosztu dla danego przykładu przez wagę dla prawdziwej klasy tego przykładu. Praktycznie każdy klasyfikator operujący na jakiejś ważonej funkcji może działać w ten sposób, nie tylko sieci neuronowe.\n",
        "\n",
        "Ostatnim ulepszeniem jest zamiana SGD na optymalizator Adam, a konkretnie na optymalizator `AdamW`. Jest to przykład **optymalizatora adaptacyjnego (adaptive optimizer)**, który potrafi zaadaptować stałą uczącą dla każdego parametru z osobna w trakcie treningu. Wykorzystuje do tego gradienty - w uproszczeniu, im większa wariancja gradientu, tym mniejsze kroki w tym kierunku robimy."
      ]
    },
    {
      "cell_type": "markdown",
      "metadata": {
        "id": "Egu6OXfL3BeP"
      },
      "source": [
        "#### Zadanie 8 (1 punkt)\n",
        "\n",
        "Zaimplementuj model `NormalizingMLP`, o takiej samej strukturze jak `RegularizedMLP`, ale dodatkowo z warstwami `BatchNorm1d` pomiędzy warstwami `Linear` oraz `ReLU`.\n",
        "\n",
        "Za pomocą funkcji `compute_class_weight()` oblicz wagi dla poszczególnych klas. Użyj opcji `\"balanced\"`. Przekaż do funkcji kosztu wagę klasy pozytywnej (pamiętaj, aby zamienić ją na tensor).\n",
        "\n",
        "Zamień używany optymalizator na `AdamW`.\n",
        "\n",
        "Na koniec skopiuj resztę kodu do treningu z poprzedniego zadania, wytrenuj sieć i oblicz wyniki na zbiorze testowym."
      ]
    },
    {
      "cell_type": "code",
      "execution_count": null,
      "metadata": {
        "id": "f2xsRiI_3BeP"
      },
      "outputs": [],
      "source": [
        "class NormalizingMLP(nn.Module):\n",
        "    def __init__(self, input_size: int, dropout_p: float = 0.5):\n",
        "        super().__init__()\n",
        "\n",
        "        # implement me!\n",
        "        raise NotImplementedError\n",
        "        self.mlp = ???\n",
        "    \n",
        "    def forward(self, x):\n",
        "        raise NotImplementedError\n",
        "        return ???\n",
        "\n",
        "    def predict_proba(self, x):\n",
        "        return sigmoid(self(x))\n",
        "    \n",
        "    def predict(self, x):\n",
        "        y_pred_score = self.predict_proba(x)\n",
        "        return torch.argmax(y_pred_score, dim=1)\n"
      ]
    },
    {
      "cell_type": "code",
      "execution_count": null,
      "metadata": {
        "id": "yFqKwGe63BeP"
      },
      "outputs": [],
      "source": [
        "from sklearn.utils.class_weight import compute_class_weight\n",
        "\n",
        "weights = compute_class_weight(\n",
        "    ???\n",
        ")\n",
        "\n",
        "learning_rate = 1e-3\n",
        "dropout_p = 0.5\n",
        "l2_reg = 1e-4\n",
        "batch_size = 128\n",
        "max_epochs = 300\n",
        "\n",
        "early_stopping_patience = 4"
      ]
    },
    {
      "cell_type": "code",
      "execution_count": null,
      "metadata": {
        "scrolled": true,
        "id": "ZPmB7lGD3BeQ"
      },
      "outputs": [],
      "source": [
        "model = NormalizingMLP(\n",
        "    input_size=X_train.shape[1], \n",
        "    dropout_p=dropout_p\n",
        ")\n",
        "optimizer = ???\n",
        "loss_fn = torch.nn.BCEWithLogitsLoss(pos_weight=torch.from_numpy(weights)[1])\n",
        "\n",
        "train_dataset = MyDataset(X_train, y_train)\n",
        "train_dataloader = DataLoader(train_dataset, batch_size=batch_size)\n",
        "\n",
        "steps_without_improvement = 0\n",
        "\n",
        "best_val_loss = np.inf\n",
        "best_model = None\n",
        "best_threshold = None\n",
        "\n",
        "for epoch_num in range(max_epochs):\n",
        "    model.train()\n",
        "    \n",
        "    # note that we are using DataLoader to get batches\n",
        "    for X_batch, y_batch in train_dataloader:\n",
        "        # model training\n",
        "        # implement me!\n",
        "        raise NotImplementedError\n",
        "    \n",
        "    # model evaluation, early stopping\n",
        "    # implement me!\n",
        "    \n",
        "    model.eval()\n",
        "    valid_metrics = evaluate_model(model, X_valid, y_valid, loss_fn)\n",
        "    if ???:\n",
        "        raise NotImplementedError \n",
        "    else:\n",
        "        steps_without_improvement += 1\n",
        "        raise NotImplementedError\n",
        "    \n",
        "    print(f\"Epoch {epoch_num} train loss: {loss.item():.4f}, eval loss {valid_metrics['loss']}\")\n"
      ]
    },
    {
      "cell_type": "code",
      "execution_count": null,
      "metadata": {
        "scrolled": true,
        "id": "f2rCrwSu3BeQ"
      },
      "outputs": [],
      "source": [
        "test_metrics = evaluate_model(best_model, X_test, y_test, loss_fn, best_threshold)\n",
        "\n",
        "print(f\"AUROC: {100 * test_metrics['AUROC']:.2f}%\")\n",
        "print(f\"F1: {100 * test_metrics['F1-score']:.2f}%\")\n",
        "print(f\"Precision: {100 * test_metrics['precision']:.2f}%\")\n",
        "print(f\"Recall: {100 * test_metrics['recall']:.2f}%\")"
      ]
    },
    {
      "cell_type": "markdown",
      "metadata": {
        "id": "H9hMUuDW3BeQ"
      },
      "source": [
        "## Pytania kontrolne (1 punkt)\n",
        "\n",
        "1. Wymień 4 najważniejsze twoim zdaniem hiperparametry sieci neuronowej.\n",
        "2. Czy widzisz jakiś problem w użyciu regularyzacji L1 w treningu sieci neuronowych? Czy dropout może twoim zdaniem stanowić alternatywę dla tego rodzaju regularyzacji?\n",
        "3. Czy użycie innej metryki do wczesnego stopu da taki sam model końcowy? Czemu?"
      ]
    },
    {
      "cell_type": "markdown",
      "metadata": {
        "id": "XyoRnHT4GFR9"
      },
      "source": [
        "## Akceleracja sprzętowa (dla zainteresowanych)"
      ]
    },
    {
      "cell_type": "markdown",
      "metadata": {
        "id": "0F5DRpKz3BeR"
      },
      "source": [
        "Jak wcześniej wspominaliśmy, użycie akceleracji sprzętowej, czyli po prostu GPU do obliczeń, jest bardzo efektywne w przypadku sieci neuronowych. Karty graficzne bardzo efektywnie mnożą macierze, a sieci neuronowe to, jak można było się przekonać, dużo mnożenia macierzy.\n",
        "\n",
        "W PyTorchu jest to dosyć łatwe, ale trzeba robić to explicite. Służy do tego metoda `.to()`, która przenosi tensory między CPU i GPU. Poniżej przykład, jak to się robi (oczywiście trzeba mieć skonfigurowane GPU, żeby działało):"
      ]
    },
    {
      "cell_type": "code",
      "execution_count": null,
      "metadata": {
        "id": "LRGroTx83BeR"
      },
      "outputs": [],
      "source": [
        "import time \n",
        "\n",
        "model = NormalizingMLP(\n",
        "    input_size=X_train.shape[1], \n",
        "    dropout_p=dropout_p\n",
        ").to('cuda')\n",
        "\n",
        "optimizer = torch.optim.AdamW(model.parameters(), lr=learning_rate, weight_decay=1e-4)\n",
        "\n",
        "# note that we are using loss function with sigmoid built in\n",
        "loss_fn = torch.nn.BCEWithLogitsLoss(pos_weight=torch.from_numpy(weights)[1].to('cuda'))\n",
        "\n",
        "step_counter = 0\n",
        "time_from_eval = time.time()\n",
        "for epoch_id in range(30):\n",
        "    for batch_x, batch_y in train_dataloader:\n",
        "        batch_x = batch_x.to('cuda')\n",
        "        batch_y = batch_y.to('cuda')\n",
        "        \n",
        "        loss = loss_fn(model(batch_x), batch_y)\n",
        "        loss.backward()\n",
        "\n",
        "        optimizer.step()\n",
        "        optimizer.zero_grad()\n",
        "        \n",
        "        if step_counter % evaluation_steps == 0:\n",
        "            print(f\"Epoch {epoch_id} train loss: {loss.item():.4f}, time: {time.time() - time_from_eval}\")\n",
        "            time_from_eval = time.time()\n",
        "\n",
        "        step_counter += 1\n",
        "\n",
        "test_res = evaluate_model(model.to('cpu'), X_test, y_test, loss_fn.to('cpu'), threshold=0.5)\n",
        "\n",
        "print(f\"AUROC: {100 * test_metrics['AUROC']:.2f}%\")\n",
        "print(f\"F1: {100 * test_metrics['F1-score']:.2f}%\")"
      ]
    },
    {
      "cell_type": "markdown",
      "metadata": {
        "id": "QQ5BZhJP3BeR"
      },
      "source": [
        "Wyniki mogą się różnić z modelem na CPU, zauważ o ile szybszy jest ten model w porównaniu z CPU (przynajmniej w przypadków scenariuszy tak będzie ;)).\n",
        "\n",
        "Dla zainteresowanych polecamy [tę serie artykułów](https://medium.com/@adi.fu7/ai-accelerators-part-i-intro-822c2cdb4ca4)"
      ]
    },
    {
      "cell_type": "markdown",
      "metadata": {
        "id": "XXqubqoU3BeR"
      },
      "source": [
        "## Zadanie dla chętnych"
      ]
    },
    {
      "cell_type": "markdown",
      "metadata": {
        "id": "CDxeP2XB3BeR"
      },
      "source": [
        "Jak widzieliśmy, sieci neuronowe mają bardzo dużo hiperparametrów. Przeszukiwanie ich grid search'em jest więc niewykonalne, a chociaż random search by działał, to potrzebowałby wielu iteracji, co też jest kosztowne obliczeniowo.\n",
        "\n",
        "Zaimplementuj inteligentne przeszukiwanie przestrzeni hiperparametrów za pomocą biblioteki [Optuna](https://optuna.org/). Implementuje ona między innymi algorytm Tree Parzen Estimator (TPE), należący do grupy algorytmów typu Bayesian search. Typowo osiągają one bardzo dobre wyniki, a właściwie zawsze lepsze od przeszukiwania losowego. Do tego wystarcza im często niewielka liczba kroków.\n",
        "\n",
        "Zaimplementuj 3-warstwową sieć MLP, gdzie pierwsza warstwa ma rozmiar ukryty N, a druga N // 2. Ucz ją optymalizatorem Adam przez maksymalnie 300 epok z cierpliwością 10.\n",
        "\n",
        "Przeszukaj wybrane zakresy dla hiperparametrów:\n",
        "- rozmiar warstw ukrytych (N)\n",
        "- stała ucząca\n",
        "- batch size\n",
        "- siła regularyzacji L2\n",
        "- prawdopodobieństwo dropoutu\n",
        "\n",
        "Wykorzystaj przynajmniej 30 iteracji. Następnie przełącz algorytm na losowy (Optuna także jego implementuje), wykonaj 30 iteracji i porównaj jakość wyników.\n",
        "\n",
        "Przydatne materiały:\n",
        "- [Optuna code examples - PyTorch](https://optuna.org/#code_examples)\n",
        "- [Auto-Tuning Hyperparameters with Optuna and PyTorch](https://www.youtube.com/watch?v=P6NwZVl8ttc)\n",
        "- [Hyperparameter Tuning of Neural Networks with Optuna and PyTorch](https://towardsdatascience.com/hyperparameter-tuning-of-neural-networks-with-optuna-and-pytorch-22e179efc837)\n",
        "- [Using Optuna to Optimize PyTorch Hyperparameters](https://medium.com/pytorch/using-optuna-to-optimize-pytorch-hyperparameters-990607385e36)"
      ]
    },
    {
      "cell_type": "code",
      "execution_count": null,
      "metadata": {
        "id": "sfxuQCrI3BeR"
      },
      "outputs": [],
      "source": []
    }
  ],
  "metadata": {
    "colab": {
      "provenance": []
    },
    "kernelspec": {
      "display_name": "Python 3 (ipykernel)",
      "language": "python",
      "name": "python3"
    },
    "language_info": {
      "codemirror_mode": {
        "name": "ipython",
        "version": 3
      },
      "file_extension": ".py",
      "mimetype": "text/x-python",
      "name": "python",
      "nbconvert_exporter": "python",
      "pygments_lexer": "ipython3",
      "version": "3.8.13"
    },
    "toc": {
      "base_numbering": 1,
      "nav_menu": {},
      "number_sections": false,
      "sideBar": false,
      "skip_h1_title": false,
      "title_cell": "Table of Contents",
      "title_sidebar": "Contents",
      "toc_cell": false,
      "toc_position": {},
      "toc_section_display": true,
      "toc_window_display": true
    },
    "vscode": {
      "interpreter": {
        "hash": "a5d7af91182035c53be6efb3f9b18ffc3e259c9c524705249407647c970de949"
      }
    }
  },
  "nbformat": 4,
  "nbformat_minor": 0
}